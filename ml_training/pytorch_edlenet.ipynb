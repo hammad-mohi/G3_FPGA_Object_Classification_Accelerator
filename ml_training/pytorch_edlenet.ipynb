{
  "nbformat": 4,
  "nbformat_minor": 0,
  "metadata": {
    "colab": {
      "name": "pytorch_edlenet.ipynb",
      "provenance": [],
      "collapsed_sections": [],
      "toc_visible": true
    },
    "kernelspec": {
      "name": "python3",
      "display_name": "Python 3"
    },
    "language_info": {
      "name": "python"
    }
  },
  "cells": [
    {
      "cell_type": "code",
      "metadata": {
        "colab": {
          "base_uri": "https://localhost:8080/"
        },
        "id": "f_FkqymeAPsx",
        "outputId": "640a75ce-0bd6-44d6-ae04-ec6428e66ffb"
      },
      "source": [
        "from google.colab import drive\n",
        "drive.mount('/content/gdrive')"
      ],
      "execution_count": null,
      "outputs": [
        {
          "output_type": "stream",
          "text": [
            "Mounted at /content/gdrive\n"
          ],
          "name": "stdout"
        }
      ]
    },
    {
      "cell_type": "code",
      "metadata": {
        "id": "BZ94HjrVCn4f"
      },
      "source": [
        "# Copy utils and signnames\n",
        "!cp /content/gdrive/MyDrive/University/Fourth\\ Year\\ \\(2020-2021\\)/ECE532/Google\\ Collab/utils.py .\n",
        "!cp /content/gdrive/MyDrive/University/Fourth\\ Year\\ \\(2020-2021\\)/ECE532/Google\\ Collab/signnames.csv ."
      ],
      "execution_count": null,
      "outputs": []
    },
    {
      "cell_type": "code",
      "metadata": {
        "id": "CfuM2VlzBCGy"
      },
      "source": [
        "import pickle"
      ],
      "execution_count": null,
      "outputs": []
    },
    {
      "cell_type": "markdown",
      "metadata": {
        "id": "rrVJ3uifKCZO"
      },
      "source": [
        "#PyTorch Setup"
      ]
    },
    {
      "cell_type": "code",
      "metadata": {
        "id": "d0dysdOvLl_x"
      },
      "source": [
        "import numpy as np\n",
        "from datetime import datetime \n",
        "\n",
        "import torch\n",
        "import torch.nn as nn\n",
        "import torch.nn.functional as F\n",
        "from torch.utils.data import TensorDataset, DataLoader\n",
        "\n",
        "from torchvision import datasets, transforms\n",
        "\n",
        "import matplotlib.pyplot as plt\n",
        "\n",
        "# check device\n",
        "DEVICE = 'cuda' if torch.cuda.is_available() else 'cpu'"
      ],
      "execution_count": null,
      "outputs": []
    },
    {
      "cell_type": "code",
      "metadata": {
        "colab": {
          "base_uri": "https://localhost:8080/",
          "height": 36
        },
        "id": "J4hN2bn4fOMB",
        "outputId": "25abeaf2-f2a5-4155-fdb3-58fe9a3c7c38"
      },
      "source": [
        "DEVICE"
      ],
      "execution_count": null,
      "outputs": [
        {
          "output_type": "execute_result",
          "data": {
            "application/vnd.google.colaboratory.intrinsic+json": {
              "type": "string"
            },
            "text/plain": [
              "'cpu'"
            ]
          },
          "metadata": {
            "tags": []
          },
          "execution_count": 28
        }
      ]
    },
    {
      "cell_type": "code",
      "metadata": {
        "id": "BA_i4tLLLngy"
      },
      "source": [
        "%config InlineBackend.figure_format = 'retina'"
      ],
      "execution_count": null,
      "outputs": []
    },
    {
      "cell_type": "code",
      "metadata": {
        "id": "suj8jqycbotQ"
      },
      "source": [
        "# parameters\n",
        "RANDOM_SEED = 42\n",
        "LEARNING_RATE = 0.001\n",
        "BATCH_SIZE = 512 # TODO: Change batch size\n",
        "N_EPOCHS = 15 # TODO: Change number of epochs\n",
        "\n",
        "IMG_SIZE = 32\n",
        "N_CLASSES = 43"
      ],
      "execution_count": null,
      "outputs": []
    },
    {
      "cell_type": "markdown",
      "metadata": {
        "id": "uexs7q1GA39x"
      },
      "source": [
        "#Data Loading"
      ]
    },
    {
      "cell_type": "code",
      "metadata": {
        "id": "ht85O-nPCKUv"
      },
      "source": [
        "# Visualizations will be shown in the notebook.\n",
        "%matplotlib inline\n",
        "from importlib import reload\n",
        "import utils; reload(utils) # TODO: Need to upload utils.py to colab filesystem\n",
        "from utils import *"
      ],
      "execution_count": null,
      "outputs": []
    },
    {
      "cell_type": "code",
      "metadata": {
        "id": "vnSVkPoaApeY"
      },
      "source": [
        "datasets_path = F\"/content/gdrive/MyDrive/University/Fourth Year (2020-2021)/ECE532/Google Collab/dataset/\"\n",
        "\n",
        "training_file = datasets_path + 'train.p'\n",
        "validation_file= datasets_path + 'valid.p'\n",
        "testing_file = datasets_path + 'test.p'\n",
        "\n",
        "with open(training_file, mode='rb') as f:\n",
        "    train = pickle.load(f)\n",
        "with open(validation_file, mode='rb') as f:\n",
        "    valid = pickle.load(f)\n",
        "with open(testing_file, mode='rb') as f:\n",
        "    test = pickle.load(f)\n",
        "    \n",
        "X_train, y_train = train['features'], train['labels']\n",
        "X_valid, y_valid = valid['features'], valid['labels']\n",
        "X_test, y_test = test['features'], test['labels']"
      ],
      "execution_count": null,
      "outputs": []
    },
    {
      "cell_type": "code",
      "metadata": {
        "id": "A5FAO-xvayxz"
      },
      "source": [
        "# Convert to grayscale and correct dimensions\n",
        "X_train = np.asarray(list(map(lambda img: np.expand_dims(to_grayscale(img), (0)), X_train))) \n",
        "X_valid = np.asarray(list(map(lambda img: np.expand_dims(to_grayscale(img), (0)), X_valid))) \n",
        "X_test = np.asarray(list(map(lambda img: np.expand_dims(to_grayscale(img), (0)), X_test))) "
      ],
      "execution_count": null,
      "outputs": []
    },
    {
      "cell_type": "code",
      "metadata": {
        "id": "YYYznkifdXGd"
      },
      "source": [
        "def imshow(img):\n",
        "    # img = img / 2 + 0.5     # unnormalize\n",
        "    # npimg = img.numpy()\n",
        "    img = img.squeeze()\n",
        "    plt.imshow(img, cmap='gray')\n",
        "    plt.show()\n",
        "\n",
        "def class_id_to_label(id):\n",
        "  sign_names = pd.read_csv(\"signnames.csv\")\n",
        "  return sign_names['SignName'][id]"
      ],
      "execution_count": null,
      "outputs": []
    },
    {
      "cell_type": "code",
      "metadata": {
        "id": "x59C2XzJdE0x",
        "colab": {
          "base_uri": "https://localhost:8080/",
          "height": 283
        },
        "outputId": "7e33415e-872b-4753-f9e5-d31c86d339a3"
      },
      "source": [
        "imshow(X_train[800])\n",
        "print(y_train[800], class_id_to_label(y_train[800].item()))"
      ],
      "execution_count": null,
      "outputs": [
        {
          "output_type": "display_data",
          "data": {
            "image/png": "[encoded data removed]",
            "text/plain": [
              "<Figure size 432x288 with 1 Axes>"
            ]
          },
          "metadata": {
            "tags": [],
            "image/png": {
              "width": 251,
              "height": 248
            },
            "needs_background": "light"
          }
        },
        {
          "output_type": "stream",
          "text": [
            "31 Wild animals crossing\n"
          ],
          "name": "stdout"
        }
      ]
    },
    {
      "cell_type": "code",
      "metadata": {
        "id": "Z0w39fmfZv71"
      },
      "source": [
        "# Create Training Dataloader\n",
        "X_train = torch.Tensor(X_train)\n",
        "y_train = torch.Tensor(y_train)\n",
        "\n",
        "train_dataset = TensorDataset(X_train, y_train)\n",
        "train_dataloader = DataLoader(train_dataset, batch_size=BATCH_SIZE, shuffle=True)"
      ],
      "execution_count": null,
      "outputs": []
    },
    {
      "cell_type": "code",
      "metadata": {
        "id": "tUdmZk2maWmq"
      },
      "source": [
        "# Create Valid Dataloader\n",
        "X_valid = torch.Tensor(X_valid)\n",
        "y_valid = torch.Tensor(y_valid)\n",
        "\n",
        "valid_dataset = TensorDataset(X_valid, y_valid)\n",
        "valid_dataloader = DataLoader(valid_dataset, batch_size=BATCH_SIZE, shuffle=True)"
      ],
      "execution_count": null,
      "outputs": []
    },
    {
      "cell_type": "code",
      "metadata": {
        "id": "mP0aZcu684bW"
      },
      "source": [
        "# Create Valid Dataloader\n",
        "X_test = torch.Tensor(X_test)\n",
        "y_test = torch.Tensor(y_test)\n",
        "\n",
        "test_dataset = TensorDataset(X_test, y_test)\n",
        "test_dataloader = DataLoader(test_dataset, shuffle=True)"
      ],
      "execution_count": null,
      "outputs": []
    },
    {
      "cell_type": "code",
      "metadata": {
        "id": "-NSMf9fOc6Gs"
      },
      "source": [
        "f = open(\"wild_animal.hex\", 'w')\n",
        "\n",
        "for pixel in torch.flatten(torch.reshape(X_train[800], (32, 32, 1))):\n",
        "  f.write(hex(int(pixel.numpy())).lstrip(\"0x\") + \"\\n\")\n",
        "\n",
        "f.close()"
      ],
      "execution_count": null,
      "outputs": []
    },
    {
      "cell_type": "code",
      "metadata": {
        "colab": {
          "base_uri": "https://localhost:8080/",
          "height": 1000
        },
        "id": "EtHFVrygCUTt",
        "outputId": "fb78b560-aaa2-4246-d671-f59f1fbc2675"
      },
      "source": [
        "# Load sign names file\n",
        "sign_names = pd.read_csv(\"signnames.csv\")\n",
        "sign_names.set_index(\"ClassId\")"
      ],
      "execution_count": null,
      "outputs": [
        {
          "output_type": "execute_result",
          "data": {
            "text/html": [
              "<div>\n",
              "<style scoped>\n",
              "    .dataframe tbody tr th:only-of-type {\n",
              "        vertical-align: middle;\n",
              "    }\n",
              "\n",
              "    .dataframe tbody tr th {\n",
              "        vertical-align: top;\n",
              "    }\n",
              "\n",
              "    .dataframe thead th {\n",
              "        text-align: right;\n",
              "    }\n",
              "</style>\n",
              "<table border=\"1\" class=\"dataframe\">\n",
              "  <thead>\n",
              "    <tr style=\"text-align: right;\">\n",
              "      <th></th>\n",
              "      <th>SignName</th>\n",
              "    </tr>\n",
              "    <tr>\n",
              "      <th>ClassId</th>\n",
              "      <th></th>\n",
              "    </tr>\n",
              "  </thead>\n",
              "  <tbody>\n",
              "    <tr>\n",
              "      <th>0</th>\n",
              "      <td>Speed limit (20km/h)</td>\n",
              "    </tr>\n",
              "    <tr>\n",
              "      <th>1</th>\n",
              "      <td>Speed limit (30km/h)</td>\n",
              "    </tr>\n",
              "    <tr>\n",
              "      <th>2</th>\n",
              "      <td>Speed limit (50km/h)</td>\n",
              "    </tr>\n",
              "    <tr>\n",
              "      <th>3</th>\n",
              "      <td>Speed limit (60km/h)</td>\n",
              "    </tr>\n",
              "    <tr>\n",
              "      <th>4</th>\n",
              "      <td>Speed limit (70km/h)</td>\n",
              "    </tr>\n",
              "    <tr>\n",
              "      <th>5</th>\n",
              "      <td>Speed limit (80km/h)</td>\n",
              "    </tr>\n",
              "    <tr>\n",
              "      <th>6</th>\n",
              "      <td>End of speed limit (80km/h)</td>\n",
              "    </tr>\n",
              "    <tr>\n",
              "      <th>7</th>\n",
              "      <td>Speed limit (100km/h)</td>\n",
              "    </tr>\n",
              "    <tr>\n",
              "      <th>8</th>\n",
              "      <td>Speed limit (120km/h)</td>\n",
              "    </tr>\n",
              "    <tr>\n",
              "      <th>9</th>\n",
              "      <td>No passing</td>\n",
              "    </tr>\n",
              "    <tr>\n",
              "      <th>10</th>\n",
              "      <td>No passing for vehicles over 3.5 metric tons</td>\n",
              "    </tr>\n",
              "    <tr>\n",
              "      <th>11</th>\n",
              "      <td>Right-of-way at the next intersection</td>\n",
              "    </tr>\n",
              "    <tr>\n",
              "      <th>12</th>\n",
              "      <td>Priority road</td>\n",
              "    </tr>\n",
              "    <tr>\n",
              "      <th>13</th>\n",
              "      <td>Yield</td>\n",
              "    </tr>\n",
              "    <tr>\n",
              "      <th>14</th>\n",
              "      <td>Stop</td>\n",
              "    </tr>\n",
              "    <tr>\n",
              "      <th>15</th>\n",
              "      <td>No vehicles</td>\n",
              "    </tr>\n",
              "    <tr>\n",
              "      <th>16</th>\n",
              "      <td>Vehicles over 3.5 metric tons prohibited</td>\n",
              "    </tr>\n",
              "    <tr>\n",
              "      <th>17</th>\n",
              "      <td>No entry</td>\n",
              "    </tr>\n",
              "    <tr>\n",
              "      <th>18</th>\n",
              "      <td>General caution</td>\n",
              "    </tr>\n",
              "    <tr>\n",
              "      <th>19</th>\n",
              "      <td>Dangerous curve to the left</td>\n",
              "    </tr>\n",
              "    <tr>\n",
              "      <th>20</th>\n",
              "      <td>Dangerous curve to the right</td>\n",
              "    </tr>\n",
              "    <tr>\n",
              "      <th>21</th>\n",
              "      <td>Double curve</td>\n",
              "    </tr>\n",
              "    <tr>\n",
              "      <th>22</th>\n",
              "      <td>Bumpy road</td>\n",
              "    </tr>\n",
              "    <tr>\n",
              "      <th>23</th>\n",
              "      <td>Slippery road</td>\n",
              "    </tr>\n",
              "    <tr>\n",
              "      <th>24</th>\n",
              "      <td>Road narrows on the right</td>\n",
              "    </tr>\n",
              "    <tr>\n",
              "      <th>25</th>\n",
              "      <td>Road work</td>\n",
              "    </tr>\n",
              "    <tr>\n",
              "      <th>26</th>\n",
              "      <td>Traffic signals</td>\n",
              "    </tr>\n",
              "    <tr>\n",
              "      <th>27</th>\n",
              "      <td>Pedestrians</td>\n",
              "    </tr>\n",
              "    <tr>\n",
              "      <th>28</th>\n",
              "      <td>Children crossing</td>\n",
              "    </tr>\n",
              "    <tr>\n",
              "      <th>29</th>\n",
              "      <td>Bicycles crossing</td>\n",
              "    </tr>\n",
              "    <tr>\n",
              "      <th>30</th>\n",
              "      <td>Beware of ice/snow</td>\n",
              "    </tr>\n",
              "    <tr>\n",
              "      <th>31</th>\n",
              "      <td>Wild animals crossing</td>\n",
              "    </tr>\n",
              "    <tr>\n",
              "      <th>32</th>\n",
              "      <td>End of all speed and passing limits</td>\n",
              "    </tr>\n",
              "    <tr>\n",
              "      <th>33</th>\n",
              "      <td>Turn right ahead</td>\n",
              "    </tr>\n",
              "    <tr>\n",
              "      <th>34</th>\n",
              "      <td>Turn left ahead</td>\n",
              "    </tr>\n",
              "    <tr>\n",
              "      <th>35</th>\n",
              "      <td>Ahead only</td>\n",
              "    </tr>\n",
              "    <tr>\n",
              "      <th>36</th>\n",
              "      <td>Go straight or right</td>\n",
              "    </tr>\n",
              "    <tr>\n",
              "      <th>37</th>\n",
              "      <td>Go straight or left</td>\n",
              "    </tr>\n",
              "    <tr>\n",
              "      <th>38</th>\n",
              "      <td>Keep right</td>\n",
              "    </tr>\n",
              "    <tr>\n",
              "      <th>39</th>\n",
              "      <td>Keep left</td>\n",
              "    </tr>\n",
              "    <tr>\n",
              "      <th>40</th>\n",
              "      <td>Roundabout mandatory</td>\n",
              "    </tr>\n",
              "    <tr>\n",
              "      <th>41</th>\n",
              "      <td>End of no passing</td>\n",
              "    </tr>\n",
              "    <tr>\n",
              "      <th>42</th>\n",
              "      <td>End of no passing by vehicles over 3.5 metric ...</td>\n",
              "    </tr>\n",
              "  </tbody>\n",
              "</table>\n",
              "</div>"
            ],
            "text/plain": [
              "                                                  SignName\n",
              "ClassId                                                   \n",
              "0                                     Speed limit (20km/h)\n",
              "1                                     Speed limit (30km/h)\n",
              "2                                     Speed limit (50km/h)\n",
              "3                                     Speed limit (60km/h)\n",
              "4                                     Speed limit (70km/h)\n",
              "5                                     Speed limit (80km/h)\n",
              "6                              End of speed limit (80km/h)\n",
              "7                                    Speed limit (100km/h)\n",
              "8                                    Speed limit (120km/h)\n",
              "9                                               No passing\n",
              "10            No passing for vehicles over 3.5 metric tons\n",
              "11                   Right-of-way at the next intersection\n",
              "12                                           Priority road\n",
              "13                                                   Yield\n",
              "14                                                    Stop\n",
              "15                                             No vehicles\n",
              "16                Vehicles over 3.5 metric tons prohibited\n",
              "17                                                No entry\n",
              "18                                         General caution\n",
              "19                             Dangerous curve to the left\n",
              "20                            Dangerous curve to the right\n",
              "21                                            Double curve\n",
              "22                                              Bumpy road\n",
              "23                                           Slippery road\n",
              "24                               Road narrows on the right\n",
              "25                                               Road work\n",
              "26                                         Traffic signals\n",
              "27                                             Pedestrians\n",
              "28                                       Children crossing\n",
              "29                                       Bicycles crossing\n",
              "30                                      Beware of ice/snow\n",
              "31                                   Wild animals crossing\n",
              "32                     End of all speed and passing limits\n",
              "33                                        Turn right ahead\n",
              "34                                         Turn left ahead\n",
              "35                                              Ahead only\n",
              "36                                    Go straight or right\n",
              "37                                     Go straight or left\n",
              "38                                              Keep right\n",
              "39                                               Keep left\n",
              "40                                    Roundabout mandatory\n",
              "41                                       End of no passing\n",
              "42       End of no passing by vehicles over 3.5 metric ..."
            ]
          },
          "metadata": {
            "tags": []
          },
          "execution_count": 9
        }
      ]
    },
    {
      "cell_type": "code",
      "metadata": {
        "id": "4O-fIyNRGsEh"
      },
      "source": [
        "!mkdir sign_names"
      ],
      "execution_count": null,
      "outputs": []
    },
    {
      "cell_type": "code",
      "metadata": {
        "id": "AbJL41nd8okS"
      },
      "source": [
        "from PIL import Image, ImageDraw, ImageFont\n",
        "\n",
        "keepcharacters = (' ','.','_')\n",
        "W, H = 500, 50\n",
        "\n",
        "directory = '/content/gdrive/MyDrive/University/Fourth Year (2020-2021)/ECE532/sign_labels/'\n",
        "font = ImageFont.truetype(font='./OpenSans-Bold.ttf', size=16)\n",
        "\n",
        "with open(directory + 'txt/label.txt', 'w+') as f:\n",
        "  for class_id, sign_name in sign_names.itertuples(index=False):\n",
        "    sign_name = \"\".join(c for c in sign_name if c.isalnum() or c in keepcharacters).rstrip()\n",
        "    img = Image.new('L', (W, H))\n",
        "    d = ImageDraw.Draw(img)\n",
        "    w, h = d.textsize(sign_name, font=font)\n",
        "    d.text(((W-w)/2,(H-h)/2), sign_name, fill=\"white\", font=font)\n",
        "    img.save(directory + sign_name + '.png')\n",
        "    \n",
        "    img = Image.open(directory + sign_name + '.png').convert('L')                  \n",
        "    img = np.array(img).flatten()\n",
        "\n",
        "    f.write(str(\"unsigned int class_\" + str(class_id) + \"[] = {\"))\n",
        "\n",
        "    string = \"\"\n",
        "    for i, pixel in enumerate(img):\n",
        "      if i < len(img)-1:\n",
        "        string += str(pixel) + ','\n",
        "    f.write(string.rstrip(',') + '};\\n')"
      ],
      "execution_count": null,
      "outputs": []
    },
    {
      "cell_type": "code",
      "metadata": {
        "id": "R0vX8rFn7H17"
      },
      "source": [
        "# import os\n",
        "# import numpy as np\n",
        "# from PIL import Image, ImageDraw, ImageFont\n",
        "\n",
        "# directory = '/content/gdrive/MyDrive/University/Fourth Year (2020-2021)/ECE532/sign_labels/'\n",
        "\n",
        "\n",
        "# with open(directory + 'txt/label.txt', 'w+') as f:\n",
        "#   for i, filename in enumerate(os.listdir(directory)):\n",
        "#     if os.path.isfile(os.path.join(directory, filename)):\n",
        "#       img = Image.open(directory + filename).convert('L')                  \n",
        "#       img = np.array(img).flatten()\n",
        "  \n",
        "#       f.write(str(\"unsigned int class_\" + str(i) + \"[] = {\"))\n",
        "\n",
        "#       string = \"\"\n",
        "#       for i, pixel in enumerate(img):\n",
        "#         if i < len(img)-1:\n",
        "#           string += str(pixel) + ','\n",
        "#       f.write(string.rstrip(',') + '}\\n')"
      ],
      "execution_count": null,
      "outputs": []
    },
    {
      "cell_type": "markdown",
      "metadata": {
        "id": "B0AlhaAqK9X8"
      },
      "source": [
        "#Helper Functions"
      ]
    },
    {
      "cell_type": "code",
      "metadata": {
        "id": "O2309pZELBu9"
      },
      "source": [
        "def get_accuracy(model, data_loader, device):\n",
        "    '''\n",
        "    Function for computing the accuracy of the predictions over the entire data_loader\n",
        "    '''\n",
        "    \n",
        "    correct_pred = 0 \n",
        "    n = 0\n",
        "    \n",
        "    with torch.no_grad():\n",
        "        model.eval()\n",
        "        for X, y_true in data_loader:\n",
        "\n",
        "            X = X.to(device)\n",
        "            y_true = y_true.type(torch.LongTensor).to(device)\n",
        "\n",
        "            _, y_prob, _ = model(X)\n",
        "            _, predicted_labels = torch.max(y_prob, 1)\n",
        "\n",
        "            n += y_true.size(0)\n",
        "            correct_pred += (predicted_labels == y_true).sum()\n",
        "\n",
        "    return correct_pred.float() / n\n",
        "\n",
        "def plot_losses(train_losses, valid_losses):\n",
        "    '''\n",
        "    Function for plotting training and validation losses\n",
        "    '''\n",
        "    \n",
        "    # temporarily change the style of the plots to seaborn \n",
        "    plt.style.use('seaborn')\n",
        "\n",
        "    train_losses = np.array(train_losses) \n",
        "    valid_losses = np.array(valid_losses)\n",
        "\n",
        "    fig, ax = plt.subplots(figsize = (8, 4.5))\n",
        "\n",
        "    ax.plot(train_losses, color='blue', label='Training loss') \n",
        "    ax.plot(valid_losses, color='red', label='Validation loss')\n",
        "    ax.set(title=\"Loss over epochs\", \n",
        "            xlabel='Epoch',\n",
        "            ylabel='Loss') \n",
        "    ax.legend()\n",
        "    fig.show()\n",
        "    \n",
        "    # change the plot style to default\n",
        "    plt.style.use('default')\n",
        "    \n",
        "def train(train_loader, model, criterion, optimizer, device):\n",
        "    '''\n",
        "    Function for the training step of the training loop\n",
        "    '''\n",
        "\n",
        "    model.train()\n",
        "    running_loss = 0\n",
        "    \n",
        "    for X, y_true in train_loader:\n",
        "\n",
        "        optimizer.zero_grad()\n",
        "        \n",
        "        X = X.to(device)\n",
        "        y_true = y_true.type(torch.LongTensor).to(device)\n",
        "    \n",
        "        # Forward pass\n",
        "        y_hat, _, _ = model(X)\n",
        "\n",
        "        loss = criterion(y_hat, y_true.long()) \n",
        "        running_loss += loss.item() * X.size(0)\n",
        "\n",
        "        # Backward pass\n",
        "        loss.backward()\n",
        "        optimizer.step()\n",
        "        \n",
        "    epoch_loss = running_loss / len(train_loader.dataset)\n",
        "    return model, optimizer, epoch_loss\n",
        "\n",
        "def validate(valid_loader, model, criterion, device):\n",
        "    '''\n",
        "    Function for the validation step of the training loop\n",
        "    '''\n",
        "   \n",
        "    model.eval()\n",
        "    running_loss = 0\n",
        "    \n",
        "    for X, y_true in valid_loader:\n",
        "    \n",
        "        X = X.to(device)\n",
        "        y_true = y_true.type(torch.LongTensor).to(device)\n",
        "\n",
        "        # Forward pass and record loss\n",
        "        y_hat, _, _ = model(X) \n",
        "        \n",
        "        loss = criterion(y_hat, y_true.long()) \n",
        "        running_loss += loss.item() * X.size(0)\n",
        "\n",
        "    epoch_loss = running_loss / len(valid_loader.dataset)\n",
        "        \n",
        "    return model, epoch_loss\n",
        "\n",
        "def training_loop(model, criterion, optimizer, train_loader, valid_loader, epochs, device, print_every=1):\n",
        "    '''\n",
        "    Function defining the entire training loop\n",
        "    '''\n",
        "    \n",
        "    # set objects for storing metrics\n",
        "    best_loss = 1e10\n",
        "    train_losses = []\n",
        "    valid_losses = []\n",
        " \n",
        "    # Train model\n",
        "    for epoch in range(0, epochs):\n",
        "\n",
        "        # training\n",
        "        model, optimizer, train_loss = train(train_loader, model, criterion, optimizer, device)\n",
        "        train_losses.append(train_loss)\n",
        "\n",
        "        # validation\n",
        "        with torch.no_grad():\n",
        "            model, valid_loss = validate(valid_loader, model, criterion, device)\n",
        "            valid_losses.append(valid_loss)\n",
        "\n",
        "        if epoch % print_every == (print_every - 1):\n",
        "            \n",
        "            train_acc = get_accuracy(model, train_loader, device=device)\n",
        "            valid_acc = get_accuracy(model, valid_loader, device=device)\n",
        "                \n",
        "            print(f'{datetime.now().time().replace(microsecond=0)} --- '\n",
        "                  f'Epoch: {epoch}\\t'\n",
        "                  f'Train loss: {train_loss:.4f}\\t'\n",
        "                  f'Valid loss: {valid_loss:.4f}\\t'\n",
        "                  f'Train accuracy: {100 * train_acc:.2f}\\t'\n",
        "                  f'Valid accuracy: {100 * valid_acc:.2f}')\n",
        "\n",
        "    plot_losses(train_losses, valid_losses)\n",
        "    \n",
        "    return model, optimizer, (train_losses, valid_losses)"
      ],
      "execution_count": null,
      "outputs": []
    },
    {
      "cell_type": "code",
      "metadata": {
        "id": "8bd7CoRWA_Ys"
      },
      "source": [
        "models_path = F\"/content/gdrive/MyDrive/University/Fourth Year (2020-2021)/ECE532/Google Collab/model_checkpoints/PyTorch/\""
      ],
      "execution_count": null,
      "outputs": []
    },
    {
      "cell_type": "markdown",
      "metadata": {
        "id": "cZ45HW9tRZMv"
      },
      "source": [
        "#EdLeNet-5"
      ]
    },
    {
      "cell_type": "code",
      "metadata": {
        "id": "jN_F0Rn8RdNN"
      },
      "source": [
        "class EdLeNet5(nn.Module):\n",
        "    def __init__(self, n_classes):\n",
        "        super(EdLeNet5, self).__init__()\n",
        "\n",
        "        # Quantization\n",
        "        self.quant = torch.quantization.QuantStub()\n",
        "        self.dequant = torch.quantization.DeQuantStub()\n",
        "        # Feature Extractor Layers\n",
        "        self.conv1 = nn.Conv2d(in_channels=1, out_channels=32, kernel_size=3, stride=1)\n",
        "        self.relu1 = nn.ReLU()\n",
        "        self.max_pool1 = nn.MaxPool2d(kernel_size=2, stride=2)\n",
        "        self.conv2 = nn.Conv2d(in_channels=32, out_channels=64, kernel_size=3, stride=1)\n",
        "        self.relu2 = nn.ReLU()\n",
        "        self.max_pool2 = nn.MaxPool2d(kernel_size=2, stride=2)\n",
        "        self.conv3 = nn.Conv2d(in_channels=64, out_channels=128, kernel_size=3, stride=1)\n",
        "        self.relu3 = nn.ReLU()\n",
        "        self.max_pool3 = nn.MaxPool2d(kernel_size=2, stride=2)\n",
        "        # Classifier Layers\n",
        "        self.fc1 = nn.Linear(in_features=2*2*128, out_features=120)\n",
        "        self.relu_fc1 = nn.ReLU()\n",
        "        self.fc2 = nn.Linear(in_features=120, out_features=84)\n",
        "        self.relu_fc2 = nn.ReLU()\n",
        "        self.fc3 = nn.Linear(in_features=84, out_features=n_classes)        \n",
        "\n",
        "    def forward(self, x):        \n",
        "        activations = dict()\n",
        "        activations['input'] = x\n",
        "        x = self.quant(x)\n",
        "        activations['quant'] = x\n",
        "        x = self.conv1(x)\n",
        "        activations['conv1'] = x\n",
        "        x = self.relu1(x)\n",
        "        activations['relu1'] = x\n",
        "        x = self.max_pool1(x)\n",
        "        activations['max_pool1'] = x\n",
        "        x = self.conv2(x)\n",
        "        activations['conv2'] = x\n",
        "        x = self.relu2(x)\n",
        "        activations['relu2'] = x\n",
        "        x = self.max_pool2(x)\n",
        "        activations['max_pool2'] = x\n",
        "        x = self.conv3(x)\n",
        "        activations['conv3'] = x\n",
        "        x = self.relu3(x)\n",
        "        activations['relu3'] = x\n",
        "        x = self.max_pool3(x)\n",
        "        activations['max_pool3'] = x        \n",
        "        x = torch.flatten(x, 1)\n",
        "        activations['fc_input'] = x\n",
        "        x = self.fc1(x)\n",
        "        activations['fc1'] = x\n",
        "        x = self.relu_fc1(x)\n",
        "        activations['relu_fc1'] = x\n",
        "        x = self.fc2(x)\n",
        "        activations['fc2'] = x\n",
        "        x = self.relu_fc2(x)\n",
        "        activations['relu_fc2'] = x\n",
        "        logits = self.fc3(x)\n",
        "        activations['fc3'] = x\n",
        "        logits = self.dequant(logits)\n",
        "        probs = F.softmax(logits, dim=1)\n",
        "        return logits, probs, activations"
      ],
      "execution_count": null,
      "outputs": []
    },
    {
      "cell_type": "markdown",
      "metadata": {
        "id": "q3b76U6ymi-8"
      },
      "source": [
        "#Training"
      ]
    },
    {
      "cell_type": "code",
      "metadata": {
        "id": "XgsH5yZWmiYg"
      },
      "source": [
        "torch.manual_seed(RANDOM_SEED)\n",
        "model = EdLeNet5(N_CLASSES).to(DEVICE)\n",
        "optimizer = torch.optim.Adam(model.parameters(), lr=LEARNING_RATE)\n",
        "criterion = nn.CrossEntropyLoss()"
      ],
      "execution_count": null,
      "outputs": []
    },
    {
      "cell_type": "markdown",
      "metadata": {
        "id": "26WA1_33icl4"
      },
      "source": [
        "## Quantization Aware Training"
      ]
    },
    {
      "cell_type": "code",
      "metadata": {
        "colab": {
          "base_uri": "https://localhost:8080/"
        },
        "id": "0VPAQruiVLHU",
        "outputId": "3b03ad8a-88bc-451c-c32b-9e73c520dbaa"
      },
      "source": [
        "# model_qat = model\n",
        "# model.train()\n",
        "# model.qconfig = torch.quantization.get_default_qat_qconfig('fbgemm')\n",
        "# # model_fused = torch.quantization.fuse_modules(model,[['conv', 'relu']])\n",
        "# model_qat = torch.quantization.prepare_qat(model)"
      ],
      "execution_count": null,
      "outputs": [
        {
          "output_type": "stream",
          "text": [
            "/usr/local/lib/python3.7/dist-packages/torch/quantization/observer.py:123: UserWarning: Please use quant_min and quant_max to specify the range for observers.                     reduce_range will be deprecated in a future release of PyTorch.\n",
            "  reduce_range will be deprecated in a future release of PyTorch.\"\n"
          ],
          "name": "stderr"
        }
      ]
    },
    {
      "cell_type": "code",
      "metadata": {
        "colab": {
          "base_uri": "https://localhost:8080/",
          "height": 724
        },
        "id": "A7I9rWgdmswl",
        "outputId": "bb9253cf-0ead-4263-a8bd-0dc9855c3955"
      },
      "source": [
        "model, optimizer, _ = training_loop(model, criterion, optimizer, train_dataloader, valid_dataloader, N_EPOCHS, DEVICE)"
      ],
      "execution_count": null,
      "outputs": [
        {
          "output_type": "stream",
          "text": [
            "17:58:14 --- Epoch: 0\tTrain loss: 2.6582\tValid loss: 1.5990\tTrain accuracy: 64.76\tValid accuracy: 59.14\n",
            "17:58:16 --- Epoch: 1\tTrain loss: 0.8357\tValid loss: 0.7876\tTrain accuracy: 88.97\tValid accuracy: 80.34\n",
            "17:58:17 --- Epoch: 2\tTrain loss: 0.3525\tValid loss: 0.5311\tTrain accuracy: 94.87\tValid accuracy: 86.85\n",
            "17:58:19 --- Epoch: 3\tTrain loss: 0.2029\tValid loss: 0.5299\tTrain accuracy: 96.89\tValid accuracy: 88.53\n",
            "17:58:21 --- Epoch: 4\tTrain loss: 0.1294\tValid loss: 0.4090\tTrain accuracy: 98.00\tValid accuracy: 90.86\n",
            "17:58:22 --- Epoch: 5\tTrain loss: 0.0997\tValid loss: 0.5156\tTrain accuracy: 98.42\tValid accuracy: 90.88\n",
            "17:58:24 --- Epoch: 6\tTrain loss: 0.0744\tValid loss: 0.4177\tTrain accuracy: 98.82\tValid accuracy: 91.75\n",
            "17:58:25 --- Epoch: 7\tTrain loss: 0.0538\tValid loss: 0.4445\tTrain accuracy: 99.28\tValid accuracy: 91.86\n",
            "17:58:27 --- Epoch: 8\tTrain loss: 0.0495\tValid loss: 0.3965\tTrain accuracy: 99.33\tValid accuracy: 92.81\n",
            "17:58:28 --- Epoch: 9\tTrain loss: 0.0468\tValid loss: 0.3839\tTrain accuracy: 99.50\tValid accuracy: 93.02\n",
            "17:58:30 --- Epoch: 10\tTrain loss: 0.0329\tValid loss: 0.5028\tTrain accuracy: 99.66\tValid accuracy: 92.90\n",
            "17:58:32 --- Epoch: 11\tTrain loss: 0.0272\tValid loss: 0.4168\tTrain accuracy: 99.65\tValid accuracy: 94.08\n",
            "17:58:33 --- Epoch: 12\tTrain loss: 0.0237\tValid loss: 0.4857\tTrain accuracy: 99.78\tValid accuracy: 93.24\n",
            "17:58:35 --- Epoch: 13\tTrain loss: 0.0140\tValid loss: 0.4114\tTrain accuracy: 99.83\tValid accuracy: 94.24\n",
            "17:58:36 --- Epoch: 14\tTrain loss: 0.0215\tValid loss: 0.4349\tTrain accuracy: 99.61\tValid accuracy: 93.47\n"
          ],
          "name": "stdout"
        },
        {
          "output_type": "display_data",
          "data": {
            "image/png": "[encoded data removed]",
            "text/plain": [
              "<Figure size 800x450 with 1 Axes>"
            ]
          },
          "metadata": {
            "tags": [],
            "image/png": {
              "width": 691,
              "height": 431
            }
          }
        }
      ]
    },
    {
      "cell_type": "code",
      "metadata": {
        "id": "AKQZNZBr5TiF"
      },
      "source": [
        "# torch.save(model.state_dict(), models_path+\"edlenet5_grayscale\")"
      ],
      "execution_count": null,
      "outputs": []
    },
    {
      "cell_type": "code",
      "metadata": {
        "id": "D0FyhoJl6bz-"
      },
      "source": [
        "def evaluate_model(model, dataloader, limit=10):\n",
        "  model.eval()\n",
        "\n",
        "  for i, data in enumerate(dataloader):\n",
        "    imshow(data[0][i])\n",
        "    pred = np.argmax(model(data[0][i].unsqueeze(0))[1].detach().numpy())\n",
        "    print(\"Predicted Class: \", class_id_to_label(pred))\n",
        "    \n",
        "    if i > limit:\n",
        "      break"
      ],
      "execution_count": null,
      "outputs": []
    },
    {
      "cell_type": "code",
      "metadata": {
        "colab": {
          "base_uri": "https://localhost:8080/",
          "height": 1000
        },
        "id": "YmjxKgdv6mwn",
        "outputId": "fc1602e6-7ff4-46b8-ba7d-7108225f6198"
      },
      "source": [
        "evaluate_model(model_int8, valid_dataloader)"
      ],
      "execution_count": null,
      "outputs": [
        {
          "output_type": "display_data",
          "data": {
            "image/png": "[encoded data removed]",
            "text/plain": [
              "<Figure size 432x288 with 1 Axes>"
            ]
          },
          "metadata": {
            "tags": [],
            "image/png": {
              "width": 251,
              "height": 248
            },
            "needs_background": "light"
          }
        },
        {
          "output_type": "stream",
          "text": [
            "Predicted Class:  No vehicles\n"
          ],
          "name": "stdout"
        },
        {
          "output_type": "display_data",
          "data": {
            "image/png": "[encoded data removed]",
            "text/plain": [
              "<Figure size 432x288 with 1 Axes>"
            ]
          },
          "metadata": {
            "tags": [],
            "image/png": {
              "width": 251,
              "height": 248
            },
            "needs_background": "light"
          }
        },
        {
          "output_type": "stream",
          "text": [
            "Predicted Class:  Speed limit (50km/h)\n"
          ],
          "name": "stdout"
        },
        {
          "output_type": "display_data",
          "data": {
            "image/png": "[encoded data removed]",
            "text/plain": [
              "<Figure size 432x288 with 1 Axes>"
            ]
          },
          "metadata": {
            "tags": [],
            "image/png": {
              "width": 251,
              "height": 248
            },
            "needs_background": "light"
          }
        },
        {
          "output_type": "stream",
          "text": [
            "Predicted Class:  Speed limit (30km/h)\n"
          ],
          "name": "stdout"
        },
        {
          "output_type": "display_data",
          "data": {
            "image/png": "[encoded data removed]",
            "text/plain": [
              "<Figure size 432x288 with 1 Axes>"
            ]
          },
          "metadata": {
            "tags": [],
            "image/png": {
              "width": 251,
              "height": 248
            },
            "needs_background": "light"
          }
        },
        {
          "output_type": "stream",
          "text": [
            "Predicted Class:  Vehicles over 3.5 metric tons prohibited\n"
          ],
          "name": "stdout"
        },
        {
          "output_type": "display_data",
          "data": {
            "image/png": "[encoded data removed]",
            "text/plain": [
              "<Figure size 432x288 with 1 Axes>"
            ]
          },
          "metadata": {
            "tags": [],
            "image/png": {
              "width": 251,
              "height": 248
            },
            "needs_background": "light"
          }
        },
        {
          "output_type": "stream",
          "text": [
            "Predicted Class:  Dangerous curve to the left\n"
          ],
          "name": "stdout"
        },
        {
          "output_type": "display_data",
          "data": {
            "image/png": "[encoded data removed]",
            "text/plain": [
              "<Figure size 432x288 with 1 Axes>"
            ]
          },
          "metadata": {
            "tags": [],
            "image/png": {
              "width": 251,
              "height": 248
            },
            "needs_background": "light"
          }
        },
        {
          "output_type": "stream",
          "text": [
            "Predicted Class:  Stop\n"
          ],
          "name": "stdout"
        },
        {
          "output_type": "display_data",
          "data": {
            "image/png": "[encoded data removed]",
            "text/plain": [
              "<Figure size 432x288 with 1 Axes>"
            ]
          },
          "metadata": {
            "tags": [],
            "image/png": {
              "width": 251,
              "height": 248
            },
            "needs_background": "light"
          }
        },
        {
          "output_type": "stream",
          "text": [
            "Predicted Class:  Speed limit (80km/h)\n"
          ],
          "name": "stdout"
        },
        {
          "output_type": "display_data",
          "data": {
            "image/png": "[encoded data removed]",
            "text/plain": [
              "<Figure size 432x288 with 1 Axes>"
            ]
          },
          "metadata": {
            "tags": [],
            "image/png": {
              "width": 251,
              "height": 248
            },
            "needs_background": "light"
          }
        },
        {
          "output_type": "stream",
          "text": [
            "Predicted Class:  Speed limit (30km/h)\n"
          ],
          "name": "stdout"
        },
        {
          "output_type": "display_data",
          "data": {
            "image/png": "[encoded data removed]",
            "text/plain": [
              "<Figure size 432x288 with 1 Axes>"
            ]
          },
          "metadata": {
            "tags": [],
            "image/png": {
              "width": 251,
              "height": 248
            },
            "needs_background": "light"
          }
        },
        {
          "output_type": "stream",
          "text": [
            "Predicted Class:  Speed limit (30km/h)\n"
          ],
          "name": "stdout"
        }
      ]
    },
    {
      "cell_type": "markdown",
      "metadata": {
        "id": "9PGo9kmHgKZf"
      },
      "source": [
        "## Static Quantization"
      ]
    },
    {
      "cell_type": "code",
      "metadata": {
        "colab": {
          "base_uri": "https://localhost:8080/"
        },
        "id": "438bizfL0aW5",
        "outputId": "2bb05c3c-6f6c-4df8-c2af-6da5feef5f97"
      },
      "source": [
        "# Load model\n",
        "model_new = EdLeNet5(N_CLASSES)\n",
        "model_new.load_state_dict(torch.load(models_path + \"edlenet5_grayscale\", map_location='cpu'))"
      ],
      "execution_count": null,
      "outputs": [
        {
          "output_type": "execute_result",
          "data": {
            "text/plain": [
              "<All keys matched successfully>"
            ]
          },
          "metadata": {
            "tags": []
          },
          "execution_count": 43
        }
      ]
    },
    {
      "cell_type": "code",
      "metadata": {
        "id": "sWfJice3gJRx"
      },
      "source": [
        "# Source: https://pytorch.org/docs/stable/quantization.html\n",
        "\n",
        "# model must be set to eval mode for static quantization logic to work\n",
        "model_new.eval()\n",
        "\n",
        "# attach a global qconfig, which contains information about what kind\n",
        "# of observers to attach. Use 'fbgemm' for server inference and\n",
        "# 'qnnpack' for mobile inference. Other quantization configurations such\n",
        "# as selecting symmetric or assymetric quantization and MinMax or L2Norm\n",
        "# calibration techniques can be specified here.\n",
        "model_new.qconfig = torch.quantization.get_default_qconfig('fbgemm')\n",
        "\n",
        "# Fuse the activations to preceding layers, where applicable.\n",
        "# This needs to be done manually depending on the model architecture.\n",
        "# Common fusions include `conv + relu` and `conv + batchnorm + relu`\n",
        "# model= torch.quantization.fuse_modules(model, [['conv', 'relu']])\n",
        "\n",
        "# Prepare the model for static quantization. This inserts observers in\n",
        "# the model that will observe activation tensors during calibration.\n",
        "model_new = torch.quantization.prepare(model_new, inplace=True)\n",
        "\n",
        "# calibrate the prepared model to determine quantization parameters for activations\n",
        "# in a real world setting, the calibration would be done with a representative dataset\n",
        "# input_fp32 = torch.randn(4, 1, 4, 4)\n",
        "model_new(X_train[0].unsqueeze(0))\n",
        "\n",
        "# Convert the observed model to a quantized model. This does several things:\n",
        "# quantizes the weights, computes and stores the scale and bias value to be\n",
        "# used with each activation tensor, and replaces key operators with quantized\n",
        "# implementations.\n",
        "model_int8 = torch.quantization.convert(model_new, inplace=True)\n",
        "\n",
        "# run the model, relevant calculations will happen in int8\n",
        "res = model_int8(X_train[0].unsqueeze(0))"
      ],
      "execution_count": null,
      "outputs": []
    },
    {
      "cell_type": "code",
      "metadata": {
        "colab": {
          "base_uri": "https://localhost:8080/"
        },
        "id": "cMYvCKMEWSdp",
        "outputId": "c8f80da5-7c35-4174-abfb-da26348d9deb"
      },
      "source": [
        "activations = model_int8(X_train[800].unsqueeze(0))[2]\n",
        "print(model_int8.dequant(activations['fc1']))"
      ],
      "execution_count": null,
      "outputs": [
        {
          "output_type": "stream",
          "text": [
            "tensor([[ -50.3369,  -85.7592,   63.3872,  -14.9146,  -55.9299, -108.1311,\n",
            "          -13.0503,   37.2866,  -52.2012,   61.5229,   68.9802,  -55.9299,\n",
            "          -63.3872,  104.4025,   20.5076,  -59.6585,   14.9146, -128.6387,\n",
            "          -67.1159,  -70.8445,  -83.8948,   39.1509,  -63.3872,   22.3720,\n",
            "          -55.9299, -128.6387,  -82.0305,   42.8796, -128.6387, -109.9954,\n",
            "           83.8948,   35.4223,  -68.9802, -128.6387,   55.9299,  -20.5076,\n",
            "           61.5229,  106.2668, -128.6387,  -83.8948,  -68.9802,  -50.3369,\n",
            "            7.4573,  -67.1159, -109.9954,  -55.9299,  102.5381, -128.6387,\n",
            "          -54.0656,   85.7592,  -70.8445,  100.6738,  -55.9299, -128.6387,\n",
            "          -72.7088,   50.3369,  113.7241,  109.9954,  -63.3872,  -95.0808,\n",
            "          -42.8796,  -44.7439,  -65.2515,  -96.9451,  -57.7942,  -44.7439,\n",
            "          -68.9802,  -55.9299,  -68.9802,  -57.7942,   82.0305,  -29.8293,\n",
            "           72.7088,   65.2515,  -13.0503,  -72.7088,  -85.7592,   29.8293,\n",
            "          -11.1860,   48.4726,  -39.1509,   61.5229,   26.1006,  111.8598,\n",
            "          -26.1006,  -14.9146,  -74.5732,  -70.8445,  -35.4223, -128.6387,\n",
            "           55.9299,   20.5076,   70.8445,   41.0152,   87.6235,  -41.0152,\n",
            "         -117.4528,   33.5579,  -46.6082,   63.3872,  -89.4878,  -68.9802,\n",
            "           54.0656,  -61.5229,   57.7942, -128.6387,   -5.5930,  -67.1159,\n",
            "           65.2515,  151.0107,  -67.1159,  -95.0808,    1.8643,   41.0152,\n",
            "         -128.6387,  -61.5229,   26.1006,   68.9802, -128.6387,  -44.7439]])\n"
          ],
          "name": "stdout"
        }
      ]
    },
    {
      "cell_type": "code",
      "metadata": {
        "colab": {
          "base_uri": "https://localhost:8080/"
        },
        "id": "JdIwYMKUDk-e",
        "outputId": "97297cc8-3d63-4b32-a48d-8eeb6851c3ad"
      },
      "source": [
        "model_int8.state_dict()"
      ],
      "execution_count": null,
      "outputs": [
        {
          "output_type": "execute_result",
          "data": {
            "text/plain": [
              "OrderedDict([('quant.scale', tensor([0.8422])),\n",
              "             ('quant.zero_point', tensor([0])),\n",
              "             ('conv1.weight', tensor([[[[ 0.2834,  0.2996, -0.0756],\n",
              "                        [ 0.3428, -0.0324,  0.0918],\n",
              "                        [-0.1323,  0.2321,  0.3158]]],\n",
              "              \n",
              "              \n",
              "                      [[[-0.2246,  0.3135,  0.0889],\n",
              "                        [ 0.2913,  0.1037,  0.2147],\n",
              "                        [ 0.0049,  0.3135,  0.0889]]],\n",
              "              \n",
              "              \n",
              "                      [[[-0.1159,  0.1637, -0.0554],\n",
              "                        [-0.0201, -0.0932,  0.3199],\n",
              "                        [-0.2393, -0.1360, -0.0227]]],\n",
              "              \n",
              "              \n",
              "                      [[[-0.2059,  0.0160, -0.3423],\n",
              "                        [ 0.3209, -0.2621,  0.2835],\n",
              "                        [ 0.0882, -0.0722,  0.2460]]],\n",
              "              \n",
              "              \n",
              "                      [[[ 0.0629,  0.2808,  0.0557],\n",
              "                        [-0.0775,  0.1138, -0.0605],\n",
              "                        [ 0.1574,  0.3075,  0.2010]]],\n",
              "              \n",
              "              \n",
              "                      [[[-0.1015,  0.2484,  0.1336],\n",
              "                        [ 0.1897, -0.1897, -0.2832],\n",
              "                        [-0.0988, -0.2217,  0.3393]]],\n",
              "              \n",
              "              \n",
              "                      [[[ 0.1540,  0.1895,  0.1445],\n",
              "                        [ 0.0355,  0.3009, -0.2014],\n",
              "                        [-0.0118, -0.2677,  0.0616]]],\n",
              "              \n",
              "              \n",
              "                      [[[-0.1142,  0.0804, -0.1038],\n",
              "                        [ 0.2932, -0.1946, -0.2231],\n",
              "                        [-0.1661,  0.3295,  0.1271]]],\n",
              "              \n",
              "              \n",
              "                      [[[ 0.3913, -0.2465, -0.3359],\n",
              "                        [-0.1756, -0.1756,  0.1448],\n",
              "                        [ 0.2280,  0.3636, -0.1233]]],\n",
              "              \n",
              "              \n",
              "                      [[[-0.1997,  0.2251, -0.0828],\n",
              "                        [ 0.2103, -0.0425,  0.2421],\n",
              "                        [-0.2698, -0.1551,  0.1381]]],\n",
              "              \n",
              "              \n",
              "                      [[[ 0.0951, -0.0925,  0.1770],\n",
              "                        [ 0.2589, -0.2483, -0.2061],\n",
              "                        [ 0.3355, -0.1215, -0.1506]]],\n",
              "              \n",
              "              \n",
              "                      [[[-0.3213, -0.1897,  0.0835],\n",
              "                        [-0.0430, -0.2428,  0.0076],\n",
              "                        [-0.2277, -0.2833, -0.1847]]],\n",
              "              \n",
              "              \n",
              "                      [[[-0.2514, -0.1456,  0.4202],\n",
              "                        [ 0.1026,  0.1687, -0.2217],\n",
              "                        [-0.1687, -0.0430,  0.1456]]],\n",
              "              \n",
              "              \n",
              "                      [[[-0.2945, -0.1426, -0.2001],\n",
              "                        [ 0.0000, -0.1242, -0.0230],\n",
              "                        [-0.2254, -0.2277, -0.1955]]],\n",
              "              \n",
              "              \n",
              "                      [[[-0.1497, -0.2718,  0.2925],\n",
              "                        [-0.0967,  0.2902,  0.1244],\n",
              "                        [-0.2948,  0.2464, -0.0691]]],\n",
              "              \n",
              "              \n",
              "                      [[[-0.0839, -0.2112, -0.2951],\n",
              "                        [ 0.1910,  0.0260,  0.2083],\n",
              "                        [-0.1620,  0.3675, -0.1389]]],\n",
              "              \n",
              "              \n",
              "                      [[[-0.0501,  0.0952,  0.1654],\n",
              "                        [ 0.2757,  0.3183, -0.2932],\n",
              "                        [ 0.0802, -0.1554, -0.0952]]],\n",
              "              \n",
              "              \n",
              "                      [[[-0.2867,  0.2978, -0.2338],\n",
              "                        [ 0.1865,  0.1586,  0.1642],\n",
              "                        [-0.1503,  0.3535,  0.1336]]],\n",
              "              \n",
              "              \n",
              "                      [[[ 0.0961, -0.2746,  0.2279],\n",
              "                        [-0.0137, -0.1730,  0.3487],\n",
              "                        [ 0.1291, -0.2005, -0.1181]]],\n",
              "              \n",
              "              \n",
              "                      [[[ 0.0556,  0.2402, -0.0632],\n",
              "                        [-0.1113, -0.0582, -0.2377],\n",
              "                        [ 0.2048,  0.3212, -0.2959]]],\n",
              "              \n",
              "              \n",
              "                      [[[ 0.0900,  0.1909,  0.0869],\n",
              "                        [-0.0947,  0.1971,  0.1893],\n",
              "                        [ 0.1272, -0.0543, -0.1071]]],\n",
              "              \n",
              "              \n",
              "                      [[[ 0.0277, -0.0716, -0.1225],\n",
              "                        [ 0.2219,  0.2935, -0.0324],\n",
              "                        [-0.0763,  0.0069, -0.0254]]],\n",
              "              \n",
              "              \n",
              "                      [[[ 0.1575,  0.1575, -0.2591],\n",
              "                        [-0.0635,  0.3226,  0.1524],\n",
              "                        [ 0.0076, -0.2032, -0.2236]]],\n",
              "              \n",
              "              \n",
              "                      [[[-0.3315, -0.1289,  0.1105],\n",
              "                        [ 0.2210,  0.1841, -0.2547],\n",
              "                        [-0.1565,  0.0153,  0.3898]]],\n",
              "              \n",
              "              \n",
              "                      [[[ 0.1329,  0.0050,  0.2282],\n",
              "                        [-0.0602, -0.1504,  0.3184],\n",
              "                        [-0.1028, -0.0376, -0.2883]]],\n",
              "              \n",
              "              \n",
              "                      [[[ 0.1820,  0.2219,  0.0939],\n",
              "                        [-0.2731, -0.3641, -0.2987],\n",
              "                        [ 0.2361,  0.1536,  0.2816]]],\n",
              "              \n",
              "              \n",
              "                      [[[ 0.2786,  0.1974,  0.1338],\n",
              "                        [-0.2149, -0.2413, -0.2347],\n",
              "                        [ 0.2040, -0.1009,  0.0088]]],\n",
              "              \n",
              "              \n",
              "                      [[[-0.0929,  0.0000, -0.2012],\n",
              "                        [-0.1238,  0.1574, -0.0361],\n",
              "                        [ 0.3276, -0.0232, -0.1806]]],\n",
              "              \n",
              "              \n",
              "                      [[[-0.0588, -0.1742, -0.1199],\n",
              "                        [-0.2895,  0.2013, -0.2239],\n",
              "                        [ 0.2262,  0.1968,  0.2805]]],\n",
              "              \n",
              "              \n",
              "                      [[[-0.2289,  0.2715, -0.1304],\n",
              "                        [ 0.1517,  0.3380, -0.0399],\n",
              "                        [ 0.0240, -0.0639, -0.2874]]],\n",
              "              \n",
              "              \n",
              "                      [[[ 0.1681, -0.3232,  0.2043],\n",
              "                        [ 0.2586,  0.3284, -0.0724],\n",
              "                        [-0.2741,  0.0776,  0.1836]]],\n",
              "              \n",
              "              \n",
              "                      [[[-0.2803,  0.0169, -0.1013],\n",
              "                        [ 0.0473, -0.0608, -0.0068],\n",
              "                        [ 0.0000, -0.1993,  0.4290]]]], size=(32, 1, 3, 3),\n",
              "                     dtype=torch.qint8, quantization_scheme=torch.per_channel_affine,\n",
              "                     scale=tensor([0.0027, 0.0025, 0.0025, 0.0027, 0.0024, 0.0027, 0.0024, 0.0026, 0.0031,\n",
              "                      0.0021, 0.0026, 0.0025, 0.0033, 0.0023, 0.0023, 0.0029, 0.0025, 0.0028,\n",
              "                      0.0027, 0.0025, 0.0016, 0.0023, 0.0025, 0.0031, 0.0025, 0.0028, 0.0022,\n",
              "                      0.0026, 0.0023, 0.0027, 0.0026, 0.0034], dtype=torch.float64),\n",
              "                     zero_point=tensor([0, 0, 0, 0, 0, 0, 0, 0, 0, 0, 0, 0, 0, 0, 0, 0, 0, 0, 0, 0, 0, 0, 0, 0,\n",
              "                      0, 0, 0, 0, 0, 0, 0, 0]),\n",
              "                     axis=0)),\n",
              "             ('conv1.bias',\n",
              "              tensor([ 0.3277, -0.0449, -0.1831, -0.0412, -0.4847, -0.4322,  0.3262, -0.0617,\n",
              "                      -0.2688,  0.1356, -0.2398, -0.1078,  0.0054, -0.0707, -0.2241, -0.5819,\n",
              "                      -0.2550,  0.4056,  0.0017, -0.0045, -0.2310,  0.1297,  0.5811,  0.2592,\n",
              "                      -0.0181,  0.2231,  0.5835, -0.3009,  0.4261,  0.2996, -0.0031, -0.3546],\n",
              "                     requires_grad=True)),\n",
              "             ('conv1.scale', tensor(2.2405)),\n",
              "             ('conv1.zero_point', tensor(66)),\n",
              "             ('conv2.weight', tensor([[[[-0.0485,  0.0000,  0.0671],\n",
              "                        [ 0.0271, -0.0485, -0.0428],\n",
              "                        [-0.0314, -0.0771, -0.0742]],\n",
              "              \n",
              "                       [[-0.0157,  0.0585,  0.0257],\n",
              "                        [-0.0443, -0.0585,  0.0314],\n",
              "                        [-0.0357, -0.0300,  0.0128]],\n",
              "              \n",
              "                       [[-0.1185, -0.0799,  0.0814],\n",
              "                        [-0.0100, -0.0771, -0.0186],\n",
              "                        [-0.0942, -0.1213,  0.0600]],\n",
              "              \n",
              "                       ...,\n",
              "              \n",
              "                       [[-0.0571,  0.0814,  0.1171],\n",
              "                        [ 0.0400,  0.0557, -0.0285],\n",
              "                        [ 0.0885,  0.0814,  0.0671]],\n",
              "              \n",
              "                       [[ 0.0200,  0.0600, -0.0243],\n",
              "                        [ 0.0000, -0.0485, -0.0428],\n",
              "                        [ 0.0086, -0.0728,  0.0228]],\n",
              "              \n",
              "                       [[ 0.0799,  0.0671,  0.0999],\n",
              "                        [ 0.1171, -0.0500,  0.0471],\n",
              "                        [ 0.0243, -0.1185,  0.0443]]],\n",
              "              \n",
              "              \n",
              "                      [[[ 0.0439,  0.0706,  0.0549],\n",
              "                        [-0.0533, -0.0408,  0.0674],\n",
              "                        [ 0.0016, -0.0125,  0.0125]],\n",
              "              \n",
              "                       [[-0.0486, -0.0078,  0.0721],\n",
              "                        [-0.0345, -0.0031, -0.0361],\n",
              "                        [-0.0533, -0.0110, -0.0251]],\n",
              "              \n",
              "                       [[-0.0894,  0.0094, -0.0972],\n",
              "                        [ 0.0329, -0.0517,  0.0157],\n",
              "                        [ 0.0502, -0.0078, -0.1270]],\n",
              "              \n",
              "                       ...,\n",
              "              \n",
              "                       [[-0.0392, -0.0063,  0.0439],\n",
              "                        [ 0.0016, -0.0439, -0.0486],\n",
              "                        [-0.0329, -0.0517, -0.0016]],\n",
              "              \n",
              "                       [[ 0.0392,  0.0047,  0.0439],\n",
              "                        [ 0.0063,  0.0078,  0.0564],\n",
              "                        [ 0.0188,  0.0423,  0.0502]],\n",
              "              \n",
              "                       [[-0.0267,  0.0862,  0.0894],\n",
              "                        [ 0.0439,  0.0815, -0.0267],\n",
              "                        [ 0.1129,  0.1991,  0.0564]]],\n",
              "              \n",
              "              \n",
              "                      [[[-0.0314, -0.0384, -0.0192],\n",
              "                        [-0.0175,  0.0489,  0.0175],\n",
              "                        [ 0.0768,  0.0314,  0.0227]],\n",
              "              \n",
              "                       [[ 0.0122, -0.0698,  0.0017],\n",
              "                        [-0.0017, -0.0401, -0.0646],\n",
              "                        [ 0.0785,  0.0768,  0.0349]],\n",
              "              \n",
              "                       [[-0.0332, -0.0751, -0.0751],\n",
              "                        [-0.1204,  0.0279,  0.1833],\n",
              "                        [-0.0279, -0.1152, -0.1414]],\n",
              "              \n",
              "                       ...,\n",
              "              \n",
              "                       [[ 0.1065, -0.0052,  0.0663],\n",
              "                        [ 0.0140,  0.0192,  0.0384],\n",
              "                        [ 0.0384, -0.0314,  0.0890]],\n",
              "              \n",
              "                       [[-0.0436, -0.0017, -0.0384],\n",
              "                        [-0.0087, -0.0140, -0.0227],\n",
              "                        [ 0.0192,  0.0384,  0.0733]],\n",
              "              \n",
              "                       [[ 0.0890, -0.0227,  0.0157],\n",
              "                        [-0.0471, -0.1326, -0.0960],\n",
              "                        [-0.1518, -0.1780, -0.2042]]],\n",
              "              \n",
              "              \n",
              "                      ...,\n",
              "              \n",
              "              \n",
              "                      [[[ 0.0019, -0.0581, -0.0375],\n",
              "                        [-0.0637, -0.0468, -0.0037],\n",
              "                        [-0.0094,  0.0450,  0.0749]],\n",
              "              \n",
              "                       [[-0.0206,  0.0037, -0.0281],\n",
              "                        [-0.0356, -0.0412,  0.0880],\n",
              "                        [ 0.0281,  0.0187, -0.0206]],\n",
              "              \n",
              "                       [[ 0.1274, -0.0225,  0.0581],\n",
              "                        [-0.0731, -0.1218,  0.0431],\n",
              "                        [ 0.0412, -0.1817, -0.0749]],\n",
              "              \n",
              "                       ...,\n",
              "              \n",
              "                       [[-0.0918, -0.0618,  0.0037],\n",
              "                        [-0.0506,  0.0244,  0.0562],\n",
              "                        [ 0.0599,  0.1349,  0.1386]],\n",
              "              \n",
              "                       [[-0.0393, -0.0037,  0.0019],\n",
              "                        [ 0.0412, -0.0206,  0.0112],\n",
              "                        [ 0.0468,  0.0225, -0.0019]],\n",
              "              \n",
              "                       [[ 0.0974, -0.0318, -0.1199],\n",
              "                        [ 0.0019, -0.0880, -0.2379],\n",
              "                        [ 0.0094, -0.0525, -0.1274]]],\n",
              "              \n",
              "              \n",
              "                      [[[ 0.0421,  0.0111,  0.0000],\n",
              "                        [ 0.0620,  0.0509,  0.0332],\n",
              "                        [-0.0465, -0.0376,  0.0509]],\n",
              "              \n",
              "                       [[ 0.0620,  0.0266, -0.0022],\n",
              "                        [-0.0089,  0.0288, -0.0509],\n",
              "                        [-0.0089,  0.0576, -0.0421]],\n",
              "              \n",
              "                       [[-0.0974, -0.1218, -0.0221],\n",
              "                        [-0.0244, -0.0199,  0.0000],\n",
              "                        [-0.0443,  0.0620,  0.1307]],\n",
              "              \n",
              "                       ...,\n",
              "              \n",
              "                       [[ 0.0089,  0.0443, -0.0576],\n",
              "                        [ 0.0310, -0.0155, -0.0066],\n",
              "                        [-0.0111, -0.0886, -0.0221]],\n",
              "              \n",
              "                       [[-0.0332,  0.0111, -0.0554],\n",
              "                        [ 0.0066, -0.0066, -0.0310],\n",
              "                        [-0.0598, -0.0177,  0.0554]],\n",
              "              \n",
              "                       [[-0.0354, -0.2347,  0.0443],\n",
              "                        [-0.0509, -0.1949, -0.0399],\n",
              "                        [-0.2215, -0.1506, -0.0022]]],\n",
              "              \n",
              "              \n",
              "                      [[[-0.0108, -0.0497, -0.0584],\n",
              "                        [-0.0368, -0.0649, -0.0627],\n",
              "                        [ 0.0670,  0.0022,  0.0259]],\n",
              "              \n",
              "                       [[-0.0713,  0.0086, -0.0086],\n",
              "                        [-0.0605, -0.0216, -0.0086],\n",
              "                        [-0.0324,  0.0368,  0.0238]],\n",
              "              \n",
              "                       [[-0.0086, -0.0130,  0.0930],\n",
              "                        [ 0.0173, -0.0259,  0.0259],\n",
              "                        [-0.0497,  0.1232, -0.1340]],\n",
              "              \n",
              "                       ...,\n",
              "              \n",
              "                       [[-0.0195,  0.0216,  0.0151],\n",
              "                        [ 0.0368,  0.0368, -0.0497],\n",
              "                        [ 0.0022, -0.0216, -0.0173]],\n",
              "              \n",
              "                       [[-0.0476,  0.0130, -0.0195],\n",
              "                        [-0.0086,  0.0216, -0.0324],\n",
              "                        [ 0.0562,  0.0670, -0.0649]],\n",
              "              \n",
              "                       [[ 0.1081,  0.1513,  0.0000],\n",
              "                        [ 0.2097,  0.1167, -0.0043],\n",
              "                        [ 0.1535,  0.0649,  0.0195]]]], size=(64, 32, 3, 3),\n",
              "                     dtype=torch.qint8, quantization_scheme=torch.per_channel_affine,\n",
              "                     scale=tensor([0.0014, 0.0016, 0.0017, 0.0014, 0.0015, 0.0013, 0.0016, 0.0014, 0.0018,\n",
              "                      0.0012, 0.0013, 0.0020, 0.0019, 0.0021, 0.0006, 0.0015, 0.0020, 0.0015,\n",
              "                      0.0017, 0.0005, 0.0016, 0.0016, 0.0019, 0.0006, 0.0023, 0.0005, 0.0019,\n",
              "                      0.0018, 0.0021, 0.0017, 0.0012, 0.0021, 0.0005, 0.0015, 0.0016, 0.0005,\n",
              "                      0.0016, 0.0005, 0.0024, 0.0005, 0.0015, 0.0017, 0.0016, 0.0010, 0.0005,\n",
              "                      0.0005, 0.0017, 0.0021, 0.0019, 0.0005, 0.0018, 0.0005, 0.0025, 0.0020,\n",
              "                      0.0015, 0.0007, 0.0005, 0.0022, 0.0018, 0.0005, 0.0016, 0.0019, 0.0022,\n",
              "                      0.0022], dtype=torch.float64),\n",
              "                     zero_point=tensor([0, 0, 0, 0, 0, 0, 0, 0, 0, 0, 0, 0, 0, 0, 0, 0, 0, 0, 0, 0, 0, 0, 0, 0,\n",
              "                      0, 0, 0, 0, 0, 0, 0, 0, 0, 0, 0, 0, 0, 0, 0, 0, 0, 0, 0, 0, 0, 0, 0, 0,\n",
              "                      0, 0, 0, 0, 0, 0, 0, 0, 0, 0, 0, 0, 0, 0, 0, 0]),\n",
              "                     axis=0)),\n",
              "             ('conv2.bias',\n",
              "              tensor([-0.1515, -0.0882,  0.1993, -0.1726,  0.0522, -0.0114, -0.0631,  0.2055,\n",
              "                      -0.1845,  0.0120,  0.0306,  0.1612,  0.3295, -0.0266, -0.0383,  0.1179,\n",
              "                      -0.1137, -0.0927, -0.0239, -0.0600,  0.1122, -0.0632,  0.0324, -0.0469,\n",
              "                       0.0814,  0.0315, -0.0643, -0.0782,  0.0393,  0.0021,  0.1274, -0.0366,\n",
              "                      -0.0336, -0.1535,  0.0518, -0.0361,  0.0414, -0.0290, -0.0605,  0.0111,\n",
              "                      -0.0201, -0.0358,  0.1722, -0.0682, -0.0636,  0.0291,  0.1367, -0.0897,\n",
              "                       0.1753, -0.0459, -0.3495, -0.0144, -0.1616,  0.1903, -0.0190,  0.0415,\n",
              "                       0.0294,  0.1827,  0.0183,  0.0092, -0.0464, -0.0623,  0.0564,  0.0448],\n",
              "                     requires_grad=True)),\n",
              "             ('conv2.scale', tensor(1.5292)),\n",
              "             ('conv2.zero_point', tensor(83)),\n",
              "             ('conv3.weight', tensor([[[[ 0.0587,  0.0230, -0.0932],\n",
              "                        [-0.0391, -0.0679,  0.0138],\n",
              "                        [ 0.0104, -0.0276, -0.0610]],\n",
              "              \n",
              "                       [[-0.0184,  0.0196, -0.0437],\n",
              "                        [ 0.0023, -0.0253, -0.0253],\n",
              "                        [-0.0345, -0.0794, -0.0725]],\n",
              "              \n",
              "                       [[ 0.0207, -0.0207, -0.0403],\n",
              "                        [ 0.0449,  0.0552, -0.0322],\n",
              "                        [ 0.0460,  0.0265,  0.0069]],\n",
              "              \n",
              "                       ...,\n",
              "              \n",
              "                       [[ 0.0023,  0.0288, -0.0380],\n",
              "                        [ 0.0610, -0.0403, -0.0874],\n",
              "                        [ 0.0230, -0.0932,  0.0138]],\n",
              "              \n",
              "                       [[-0.0380,  0.0058, -0.0069],\n",
              "                        [ 0.0437,  0.0483, -0.0380],\n",
              "                        [ 0.0288, -0.0518,  0.0035]],\n",
              "              \n",
              "                       [[ 0.1058,  0.0253,  0.0138],\n",
              "                        [ 0.0518,  0.0840,  0.0748],\n",
              "                        [ 0.1127, -0.0150,  0.0587]]],\n",
              "              \n",
              "              \n",
              "                      [[[ 0.0012,  0.0192,  0.0012],\n",
              "                        [ 0.0096, -0.0036,  0.0240],\n",
              "                        [-0.0853, -0.0385,  0.0421]],\n",
              "              \n",
              "                       [[-0.0877, -0.0361,  0.0108],\n",
              "                        [-0.0517, -0.0204,  0.0336],\n",
              "                        [-0.0204,  0.0072, -0.0144]],\n",
              "              \n",
              "                       [[ 0.0024, -0.0060,  0.0168],\n",
              "                        [-0.0168, -0.0481, -0.0216],\n",
              "                        [-0.0421,  0.0385, -0.0336]],\n",
              "              \n",
              "                       ...,\n",
              "              \n",
              "                       [[ 0.0336,  0.0817,  0.0361],\n",
              "                        [ 0.0072,  0.0733, -0.0457],\n",
              "                        [-0.0240,  0.0637, -0.0048]],\n",
              "              \n",
              "                       [[-0.0012, -0.0120,  0.0048],\n",
              "                        [ 0.0180, -0.0312,  0.0300],\n",
              "                        [-0.0349, -0.0397,  0.0048]],\n",
              "              \n",
              "                       [[-0.0553,  0.0144, -0.0096],\n",
              "                        [-0.0060, -0.0024,  0.0889],\n",
              "                        [-0.0336,  0.0036, -0.0300]]],\n",
              "              \n",
              "              \n",
              "                      [[[ 0.0092,  0.0079,  0.0343],\n",
              "                        [-0.0422, -0.0700,  0.0251],\n",
              "                        [-0.0040,  0.0568, -0.0132]],\n",
              "              \n",
              "                       [[ 0.0396,  0.0462, -0.0026],\n",
              "                        [-0.0106, -0.0172,  0.0290],\n",
              "                        [ 0.0304,  0.0673,  0.0198]],\n",
              "              \n",
              "                       [[-0.0224,  0.0502,  0.0396],\n",
              "                        [ 0.0343,  0.0211,  0.0330],\n",
              "                        [ 0.0330, -0.0634, -0.0119]],\n",
              "              \n",
              "                       ...,\n",
              "              \n",
              "                       [[ 0.0119,  0.0013, -0.0356],\n",
              "                        [ 0.0356, -0.0290, -0.0858],\n",
              "                        [ 0.0264, -0.0805, -0.0013]],\n",
              "              \n",
              "                       [[-0.0330, -0.0409,  0.0198],\n",
              "                        [ 0.0238,  0.0660, -0.0528],\n",
              "                        [-0.0264,  0.0726,  0.0356]],\n",
              "              \n",
              "                       [[ 0.0462, -0.0290, -0.0198],\n",
              "                        [ 0.1201,  0.0185, -0.0053],\n",
              "                        [ 0.0092,  0.0436,  0.0172]]],\n",
              "              \n",
              "              \n",
              "                      ...,\n",
              "              \n",
              "              \n",
              "                      [[[ 0.0245,  0.0230, -0.0173],\n",
              "                        [-0.0504,  0.0403,  0.0259],\n",
              "                        [-0.0302, -0.0360, -0.0561]],\n",
              "              \n",
              "                       [[-0.0230,  0.0230, -0.0187],\n",
              "                        [-0.0029,  0.0403, -0.0763],\n",
              "                        [-0.0187, -0.0144, -0.1022]],\n",
              "              \n",
              "                       [[-0.0101, -0.0460,  0.0446],\n",
              "                        [ 0.0086,  0.0158,  0.0173],\n",
              "                        [ 0.0000,  0.0633,  0.0288]],\n",
              "              \n",
              "                       ...,\n",
              "              \n",
              "                       [[-0.0504, -0.0144, -0.0072],\n",
              "                        [ 0.0115,  0.0403, -0.0144],\n",
              "                        [-0.0691, -0.0403,  0.0000]],\n",
              "              \n",
              "                       [[ 0.0029,  0.0518, -0.0014],\n",
              "                        [ 0.0158, -0.0561, -0.0158],\n",
              "                        [-0.0072, -0.0086, -0.0173]],\n",
              "              \n",
              "                       [[ 0.0158, -0.0158, -0.0374],\n",
              "                        [ 0.0086,  0.0072,  0.0115],\n",
              "                        [-0.0403, -0.0158, -0.0115]]],\n",
              "              \n",
              "              \n",
              "                      [[[ 0.0092,  0.0458,  0.0101],\n",
              "                        [-0.0302,  0.0412, -0.0266],\n",
              "                        [ 0.0247,  0.0220,  0.0009]],\n",
              "              \n",
              "                       [[ 0.0101,  0.0082, -0.0119],\n",
              "                        [-0.0834,  0.0348,  0.0531],\n",
              "                        [ 0.0018, -0.0037, -0.0412]],\n",
              "              \n",
              "                       [[ 0.0678,  0.0018,  0.0312],\n",
              "                        [-0.0513,  0.0165, -0.0348],\n",
              "                        [ 0.0266, -0.0009, -0.0339]],\n",
              "              \n",
              "                       ...,\n",
              "              \n",
              "                       [[-0.0064, -0.0367, -0.0037],\n",
              "                        [-0.0202,  0.0495,  0.0192],\n",
              "                        [ 0.0046,  0.0431,  0.0486]],\n",
              "              \n",
              "                       [[-0.0202, -0.0229, -0.0073],\n",
              "                        [ 0.0183,  0.0064,  0.0000],\n",
              "                        [ 0.0119, -0.0147, -0.0641]],\n",
              "              \n",
              "                       [[-0.0944, -0.0137, -0.0458],\n",
              "                        [-0.0623,  0.0357, -0.0137],\n",
              "                        [-0.0229, -0.0156,  0.0211]]],\n",
              "              \n",
              "              \n",
              "                      [[[-0.0363, -0.0130,  0.0078],\n",
              "                        [-0.0065, -0.0273,  0.0285],\n",
              "                        [-0.0467, -0.1661, -0.1259]],\n",
              "              \n",
              "                       [[-0.0571, -0.0701,  0.0311],\n",
              "                        [ 0.0467, -0.0506,  0.0182],\n",
              "                        [ 0.0688, -0.0169, -0.0805]],\n",
              "              \n",
              "                       [[ 0.0169, -0.0389, -0.0493],\n",
              "                        [-0.0415,  0.0454,  0.0195],\n",
              "                        [ 0.0324,  0.0597,  0.0013]],\n",
              "              \n",
              "                       ...,\n",
              "              \n",
              "                       [[ 0.1051,  0.0091, -0.0091],\n",
              "                        [ 0.0208, -0.0454,  0.0117],\n",
              "                        [-0.0623, -0.1285,  0.0247]],\n",
              "              \n",
              "                       [[-0.0285, -0.0169,  0.0519],\n",
              "                        [-0.0052,  0.0195, -0.0688],\n",
              "                        [ 0.0065,  0.0130, -0.0143]],\n",
              "              \n",
              "                       [[-0.0818, -0.0545,  0.0311],\n",
              "                        [-0.0285, -0.0947, -0.0701],\n",
              "                        [ 0.0052, -0.0519, -0.0117]]]], size=(128, 64, 3, 3),\n",
              "                     dtype=torch.qint8, quantization_scheme=torch.per_channel_affine,\n",
              "                     scale=tensor([0.0012, 0.0012, 0.0013, 0.0010, 0.0018, 0.0009, 0.0010, 0.0009, 0.0005,\n",
              "                      0.0009, 0.0005, 0.0005, 0.0004, 0.0010, 0.0012, 0.0018, 0.0011, 0.0011,\n",
              "                      0.0005, 0.0004, 0.0013, 0.0011, 0.0009, 0.0011, 0.0010, 0.0012, 0.0014,\n",
              "                      0.0005, 0.0007, 0.0009, 0.0012, 0.0011, 0.0010, 0.0013, 0.0012, 0.0009,\n",
              "                      0.0004, 0.0006, 0.0011, 0.0011, 0.0016, 0.0004, 0.0012, 0.0012, 0.0013,\n",
              "                      0.0010, 0.0010, 0.0007, 0.0016, 0.0015, 0.0011, 0.0004, 0.0006, 0.0011,\n",
              "                      0.0004, 0.0009, 0.0004, 0.0013, 0.0004, 0.0004, 0.0015, 0.0005, 0.0004,\n",
              "                      0.0004, 0.0009, 0.0011, 0.0009, 0.0012, 0.0012, 0.0004, 0.0006, 0.0004,\n",
              "                      0.0010, 0.0010, 0.0013, 0.0011, 0.0008, 0.0011, 0.0013, 0.0013, 0.0010,\n",
              "                      0.0012, 0.0011, 0.0004, 0.0011, 0.0014, 0.0014, 0.0004, 0.0005, 0.0016,\n",
              "                      0.0004, 0.0010, 0.0008, 0.0012, 0.0011, 0.0013, 0.0004, 0.0013, 0.0010,\n",
              "                      0.0010, 0.0012, 0.0005, 0.0012, 0.0009, 0.0010, 0.0008, 0.0004, 0.0015,\n",
              "                      0.0010, 0.0011, 0.0011, 0.0017, 0.0005, 0.0007, 0.0004, 0.0008, 0.0014,\n",
              "                      0.0021, 0.0009, 0.0004, 0.0010, 0.0006, 0.0010, 0.0011, 0.0004, 0.0014,\n",
              "                      0.0009, 0.0013], dtype=torch.float64),\n",
              "                     zero_point=tensor([0, 0, 0, 0, 0, 0, 0, 0, 0, 0, 0, 0, 0, 0, 0, 0, 0, 0, 0, 0, 0, 0, 0, 0,\n",
              "                      0, 0, 0, 0, 0, 0, 0, 0, 0, 0, 0, 0, 0, 0, 0, 0, 0, 0, 0, 0, 0, 0, 0, 0,\n",
              "                      0, 0, 0, 0, 0, 0, 0, 0, 0, 0, 0, 0, 0, 0, 0, 0, 0, 0, 0, 0, 0, 0, 0, 0,\n",
              "                      0, 0, 0, 0, 0, 0, 0, 0, 0, 0, 0, 0, 0, 0, 0, 0, 0, 0, 0, 0, 0, 0, 0, 0,\n",
              "                      0, 0, 0, 0, 0, 0, 0, 0, 0, 0, 0, 0, 0, 0, 0, 0, 0, 0, 0, 0, 0, 0, 0, 0,\n",
              "                      0, 0, 0, 0, 0, 0, 0, 0]),\n",
              "                     axis=0)),\n",
              "             ('conv3.bias',\n",
              "              tensor([ 4.6682e-02, -4.2855e-02,  2.0910e-01,  1.2641e-01,  1.5785e-01,\n",
              "                      -6.2678e-02,  5.9990e-03,  3.6291e-02,  2.1134e-02,  5.1086e-02,\n",
              "                      -2.2786e-02,  3.5970e-03, -1.3819e-02, -1.3102e-01,  1.1172e-01,\n",
              "                      -1.4861e-02,  6.2242e-02, -2.8932e-02,  4.0296e-03, -4.3561e-02,\n",
              "                       7.4924e-02,  1.6985e-01, -3.7694e-03,  1.1412e-01,  8.2018e-02,\n",
              "                       3.5063e-02,  1.5176e-01, -1.4872e-02, -3.9663e-02, -2.9744e-02,\n",
              "                      -3.4846e-02,  9.9249e-02,  1.7902e-02,  2.0821e-01,  2.5642e-01,\n",
              "                       6.1018e-02, -1.8267e-02,  1.2078e-02,  1.3513e-02, -4.7461e-02,\n",
              "                       1.7478e-02, -2.9143e-02,  2.1439e-01,  7.0548e-02,  2.0469e-02,\n",
              "                       1.0788e-01, -1.2801e-01, -2.3772e-03,  1.4230e-01, -7.5658e-02,\n",
              "                       5.6819e-02, -1.0466e-02, -5.3659e-02,  6.3459e-02, -4.3983e-02,\n",
              "                       1.2852e-01, -2.1161e-02,  1.1452e-01,  2.0958e-02, -3.3921e-02,\n",
              "                       2.0110e-01, -2.7378e-02, -3.7447e-02, -2.7370e-02,  9.5997e-02,\n",
              "                       1.5522e-01,  1.0682e-01,  2.5218e-01,  9.3432e-02, -2.3522e-02,\n",
              "                       3.0903e-03, -2.5531e-04,  2.0315e-01,  1.6042e-01, -1.2374e-01,\n",
              "                       1.0168e-01, -5.2232e-03,  1.2897e-01,  1.6247e-03,  9.8181e-02,\n",
              "                       5.8624e-02, -3.8509e-02,  1.2062e-01,  2.7462e-02, -1.0457e-02,\n",
              "                       5.6119e-02,  1.1833e-01, -1.2882e-02,  1.2658e-02,  1.1577e-01,\n",
              "                       2.6730e-02,  5.7724e-03, -3.7857e-02,  1.2622e-01, -2.7954e-02,\n",
              "                      -9.5178e-02, -7.1196e-03, -4.0876e-02,  1.6496e-01, -2.7598e-02,\n",
              "                       4.3287e-02, -6.1554e-03, -7.4739e-02, -3.7237e-02,  7.1225e-02,\n",
              "                       1.3310e-01,  3.3603e-02,  5.4451e-02, -3.0162e-02, -3.6971e-02,\n",
              "                       8.2904e-02,  2.8278e-02,  4.6246e-03, -2.1399e-02, -1.6983e-02,\n",
              "                      -2.4232e-02,  1.1168e-01, -3.1054e-02,  7.7145e-02, -4.1977e-02,\n",
              "                      -1.5992e-02, -2.6261e-02,  3.2189e-02, -7.5110e-02, -4.1368e-03,\n",
              "                      -7.0535e-02, -6.5972e-02,  9.2230e-02], requires_grad=True)),\n",
              "             ('conv3.scale', tensor(2.0071)),\n",
              "             ('conv3.zero_point', tensor(89)),\n",
              "             ('fc1.scale', tensor(1.8643)),\n",
              "             ('fc1.zero_point', tensor(69)),\n",
              "             ('fc1._packed_params.dtype', torch.qint8),\n",
              "             ('fc1._packed_params._packed_params',\n",
              "              (tensor([[ 0.0299, -0.0429,  0.0378,  ..., -0.0165,  0.0248, -0.0441],\n",
              "                       [-0.0363, -0.0123,  0.0082,  ...,  0.0273,  0.0091, -0.0295],\n",
              "                       [-0.0588,  0.0000,  0.0623,  ...,  0.0219,  0.0069, -0.0104],\n",
              "                       ...,\n",
              "                       [-0.0129, -0.0429,  0.0086,  ...,  0.0072,  0.0000, -0.0444],\n",
              "                       [-0.0184, -0.0396, -0.0466,  ...,  0.0201, -0.0499, -0.0130],\n",
              "                       [-0.0328, -0.0242, -0.0300,  ..., -0.0363,  0.0179,  0.0016]],\n",
              "                      size=(120, 512), dtype=torch.qint8,\n",
              "                      quantization_scheme=torch.per_channel_affine,\n",
              "                      scale=tensor([0.0004, 0.0005, 0.0012, 0.0010, 0.0004, 0.0005, 0.0010, 0.0013, 0.0004,\n",
              "                       0.0009, 0.0010, 0.0004, 0.0004, 0.0010, 0.0013, 0.0004, 0.0012, 0.0006,\n",
              "                       0.0006, 0.0005, 0.0005, 0.0014, 0.0004, 0.0010, 0.0004, 0.0006, 0.0007,\n",
              "                       0.0011, 0.0007, 0.0008, 0.0011, 0.0008, 0.0004, 0.0005, 0.0009, 0.0010,\n",
              "                       0.0009, 0.0012, 0.0005, 0.0013, 0.0005, 0.0004, 0.0009, 0.0005, 0.0005,\n",
              "                       0.0005, 0.0009, 0.0005, 0.0004, 0.0012, 0.0005, 0.0008, 0.0004, 0.0008,\n",
              "                       0.0005, 0.0009, 0.0012, 0.0010, 0.0005, 0.0005, 0.0004, 0.0004, 0.0009,\n",
              "                       0.0005, 0.0004, 0.0004, 0.0006, 0.0004, 0.0005, 0.0010, 0.0013, 0.0004,\n",
              "                       0.0008, 0.0012, 0.0008, 0.0004, 0.0004, 0.0009, 0.0008, 0.0007, 0.0004,\n",
              "                       0.0013, 0.0015, 0.0008, 0.0004, 0.0010, 0.0004, 0.0004, 0.0009, 0.0005,\n",
              "                       0.0009, 0.0009, 0.0009, 0.0010, 0.0011, 0.0004, 0.0005, 0.0014, 0.0004,\n",
              "                       0.0009, 0.0005, 0.0005, 0.0011, 0.0008, 0.0010, 0.0006, 0.0014, 0.0004,\n",
              "                       0.0013, 0.0010, 0.0005, 0.0004, 0.0009, 0.0009, 0.0006, 0.0004, 0.0008,\n",
              "                       0.0014, 0.0005, 0.0004], dtype=torch.float64),\n",
              "                      zero_point=tensor([0, 0, 0, 0, 0, 0, 0, 0, 0, 0, 0, 0, 0, 0, 0, 0, 0, 0, 0, 0, 0, 0, 0, 0,\n",
              "                       0, 0, 0, 0, 0, 0, 0, 0, 0, 0, 0, 0, 0, 0, 0, 0, 0, 0, 0, 0, 0, 0, 0, 0,\n",
              "                       0, 0, 0, 0, 0, 0, 0, 0, 0, 0, 0, 0, 0, 0, 0, 0, 0, 0, 0, 0, 0, 0, 0, 0,\n",
              "                       0, 0, 0, 0, 0, 0, 0, 0, 0, 0, 0, 0, 0, 0, 0, 0, 0, 0, 0, 0, 0, 0, 0, 0,\n",
              "                       0, 0, 0, 0, 0, 0, 0, 0, 0, 0, 0, 0, 0, 0, 0, 0, 0, 0, 0, 0, 0, 0, 0, 0]),\n",
              "                      axis=0),\n",
              "               tensor([-0.0328, -0.0459,  0.2008, -0.0457, -0.0009,  0.0043,  0.1648,  0.0582,\n",
              "                       -0.0491,  0.1823,  0.0252, -0.0473,  0.0208,  0.0216, -0.0005,  0.0278,\n",
              "                       -0.0716, -0.0304, -0.0178, -0.0013,  0.0092,  0.0626, -0.0378,  0.0677,\n",
              "                       -0.0399, -0.0259, -0.0349, -0.0551,  0.0148, -0.0419, -0.0257,  0.1643,\n",
              "                       -0.0179, -0.0194, -0.0583,  0.0799,  0.0659, -0.0507, -0.0186,  0.1155,\n",
              "                        0.0085, -0.0076,  0.1622,  0.0085, -0.0207,  0.0164,  0.1260,  0.0254,\n",
              "                        0.0270, -0.0573,  0.0335, -0.1291, -0.0121,  0.0126, -0.0375,  0.0640,\n",
              "                       -0.0340, -0.0146,  0.0110,  0.0211, -0.0431, -0.0010, -0.0121,  0.0205,\n",
              "                        0.0255, -0.0030,  0.0291, -0.0016,  0.0368,  0.0684, -0.0885, -0.0417,\n",
              "                       -0.0653,  0.0046,  0.0391,  0.0274, -0.0174,  0.1210,  0.1072,  0.0350,\n",
              "                       -0.0176,  0.0707,  0.1474, -0.0947, -0.0277,  0.1012,  0.0101,  0.0081,\n",
              "                        0.0279, -0.0095,  0.0183,  0.0008, -0.0224,  0.0711,  0.1303, -0.0244,\n",
              "                       -0.0219,  0.1732, -0.0063,  0.0614,  0.0150,  0.0254,  0.0097, -0.0358,\n",
              "                        0.0933, -0.0634,  0.0419, -0.0231, -0.0671, -0.0276, -0.0313, -0.0258,\n",
              "                        0.0365,  0.0231,  0.0113,  0.0231,  0.0820,  0.0760, -0.0351,  0.0247],\n",
              "                      requires_grad=True))),\n",
              "             ('fc2.scale', tensor(0.8835)),\n",
              "             ('fc2.zero_point', tensor(68)),\n",
              "             ('fc2._packed_params.dtype', torch.qint8),\n",
              "             ('fc2._packed_params._packed_params',\n",
              "              (tensor([[ 0.0903, -0.0125, -0.0663,  ...,  0.0759,  0.0365, -0.0730],\n",
              "                       [ 0.0263,  0.0030,  0.0617,  ..., -0.0778, -0.0819, -0.0334],\n",
              "                       [ 0.0780,  0.0138,  0.0075,  ...,  0.0805,  0.0113,  0.0214],\n",
              "                       ...,\n",
              "                       [-0.0267, -0.0495,  0.0435,  ..., -0.0307,  0.0811,  0.0079],\n",
              "                       [ 0.0273,  0.0426, -0.0011,  ...,  0.0262, -0.0908, -0.0667],\n",
              "                       [-0.0140,  0.0689,  0.1212,  ...,  0.0523, -0.0370, -0.0702]],\n",
              "                      size=(84, 120), dtype=torch.qint8,\n",
              "                      quantization_scheme=torch.per_channel_affine,\n",
              "                      scale=tensor([0.0010, 0.0010, 0.0013, 0.0008, 0.0011, 0.0009, 0.0011, 0.0010, 0.0010,\n",
              "                       0.0014, 0.0012, 0.0011, 0.0008, 0.0010, 0.0008, 0.0012, 0.0013, 0.0012,\n",
              "                       0.0011, 0.0012, 0.0008, 0.0009, 0.0008, 0.0009, 0.0009, 0.0012, 0.0014,\n",
              "                       0.0009, 0.0013, 0.0013, 0.0010, 0.0009, 0.0013, 0.0013, 0.0012, 0.0008,\n",
              "                       0.0010, 0.0008, 0.0010, 0.0010, 0.0010, 0.0011, 0.0013, 0.0007, 0.0010,\n",
              "                       0.0009, 0.0010, 0.0011, 0.0013, 0.0007, 0.0014, 0.0009, 0.0011, 0.0008,\n",
              "                       0.0011, 0.0012, 0.0009, 0.0007, 0.0008, 0.0008, 0.0008, 0.0013, 0.0011,\n",
              "                       0.0015, 0.0008, 0.0013, 0.0008, 0.0010, 0.0008, 0.0010, 0.0013, 0.0014,\n",
              "                       0.0010, 0.0010, 0.0007, 0.0010, 0.0009, 0.0010, 0.0011, 0.0007, 0.0010,\n",
              "                       0.0010, 0.0011, 0.0013], dtype=torch.float64),\n",
              "                      zero_point=tensor([0, 0, 0, 0, 0, 0, 0, 0, 0, 0, 0, 0, 0, 0, 0, 0, 0, 0, 0, 0, 0, 0, 0, 0,\n",
              "                       0, 0, 0, 0, 0, 0, 0, 0, 0, 0, 0, 0, 0, 0, 0, 0, 0, 0, 0, 0, 0, 0, 0, 0,\n",
              "                       0, 0, 0, 0, 0, 0, 0, 0, 0, 0, 0, 0, 0, 0, 0, 0, 0, 0, 0, 0, 0, 0, 0, 0,\n",
              "                       0, 0, 0, 0, 0, 0, 0, 0, 0, 0, 0, 0]),\n",
              "                      axis=0),\n",
              "               tensor([-0.0507,  0.0215, -0.0595,  0.0726, -0.1515,  0.0029,  0.1086, -0.0312,\n",
              "                       -0.0484, -0.0042,  0.0740,  0.0903, -0.0659,  0.0234,  0.0529,  0.2131,\n",
              "                        0.1529,  0.0951,  0.0478, -0.0444, -0.0243, -0.0352, -0.0745, -0.0240,\n",
              "                        0.0281,  0.0994, -0.0394, -0.0559,  0.0580,  0.1032, -0.0198, -0.0093,\n",
              "                       -0.0581,  0.0208,  0.0418,  0.0503, -0.0733,  0.0044,  0.0812,  0.2539,\n",
              "                        0.0879, -0.0811,  0.0537,  0.0326,  0.0723,  0.0533,  0.0669, -0.1696,\n",
              "                        0.0059, -0.0044,  0.0492,  0.2039, -0.0117, -0.0671, -0.0790,  0.0844,\n",
              "                        0.0613, -0.0815,  0.0826, -0.0383, -0.0052, -0.0688, -0.0143,  0.0154,\n",
              "                       -0.0905,  0.0705,  0.0031,  0.2118,  0.0105, -0.0084, -0.1139,  0.2220,\n",
              "                        0.0073, -0.0686, -0.0780,  0.1014,  0.0123,  0.1613,  0.0907,  0.0372,\n",
              "                       -0.0182,  0.0953,  0.0208,  0.1299], requires_grad=True))),\n",
              "             ('fc3.scale', tensor(0.5397)),\n",
              "             ('fc3.zero_point', tensor(94)),\n",
              "             ('fc3._packed_params.dtype', torch.qint8),\n",
              "             ('fc3._packed_params._packed_params',\n",
              "              (tensor([[ 0.0883, -0.0449,  0.0613,  ..., -0.1421,  0.0195, -0.0180],\n",
              "                       [ 0.0519,  0.0934,  0.0726,  ..., -0.1291,  0.1256, -0.0864],\n",
              "                       [ 0.1023, -0.0035,  0.0800,  ..., -0.0517, -0.0847, -0.0400],\n",
              "                       ...,\n",
              "                       [ 0.0873, -0.0988, -0.0411,  ...,  0.0449,  0.0539,  0.0231],\n",
              "                       [-0.0527,  0.0727,  0.0000,  ..., -0.0690,  0.0091,  0.0382],\n",
              "                       [-0.1503,  0.0949,  0.0095,  ...,  0.0601,  0.0285,  0.0839]],\n",
              "                      size=(43, 84), dtype=torch.qint8,\n",
              "                      quantization_scheme=torch.per_channel_affine,\n",
              "                      scale=tensor([0.0015, 0.0012, 0.0012, 0.0015, 0.0013, 0.0014, 0.0023, 0.0015, 0.0016,\n",
              "                       0.0014, 0.0016, 0.0014, 0.0014, 0.0014, 0.0012, 0.0012, 0.0023, 0.0018,\n",
              "                       0.0016, 0.0016, 0.0026, 0.0026, 0.0018, 0.0020, 0.0024, 0.0015, 0.0012,\n",
              "                       0.0021, 0.0016, 0.0015, 0.0018, 0.0016, 0.0019, 0.0016, 0.0020, 0.0015,\n",
              "                       0.0016, 0.0017, 0.0013, 0.0025, 0.0013, 0.0018, 0.0016],\n",
              "                      dtype=torch.float64),\n",
              "                      zero_point=tensor([0, 0, 0, 0, 0, 0, 0, 0, 0, 0, 0, 0, 0, 0, 0, 0, 0, 0, 0, 0, 0, 0, 0, 0,\n",
              "                       0, 0, 0, 0, 0, 0, 0, 0, 0, 0, 0, 0, 0, 0, 0, 0, 0, 0, 0]),\n",
              "                      axis=0),\n",
              "               tensor([-0.1328, -0.0321, -0.0348, -0.0193,  0.1547,  0.0033,  0.2058,  0.1741,\n",
              "                        0.1917, -0.0539,  0.0207, -0.0904,  0.1117, -0.0114,  0.0056,  0.0038,\n",
              "                       -0.0180,  0.0010,  0.1334, -0.0184,  0.0102, -0.0947, -0.1167,  0.0222,\n",
              "                       -0.0986,  0.1136, -0.0377, -0.1933, -0.1607, -0.0612,  0.1091,  0.1579,\n",
              "                        0.0389,  0.0858,  0.0097,  0.0083,  0.0340,  0.0107,  0.0805,  0.0826,\n",
              "                       -0.0133, -0.1723, -0.0249], requires_grad=True)))])"
            ]
          },
          "metadata": {
            "tags": []
          },
          "execution_count": 166
        }
      ]
    },
    {
      "cell_type": "code",
      "metadata": {
        "colab": {
          "base_uri": "https://localhost:8080/"
        },
        "id": "mEwxjZU5DXos",
        "outputId": "7610a1d0-4817-4bc1-cfde-774dab83fa80"
      },
      "source": [
        "activations['fc1']"
      ],
      "execution_count": null,
      "outputs": [
        {
          "output_type": "execute_result",
          "data": {
            "text/plain": [
              "tensor([[ -50.3369,  -85.7592,   63.3872,  -14.9146,  -55.9299, -108.1311,\n",
              "          -13.0503,   37.2866,  -52.2012,   61.5229,   68.9802,  -55.9299,\n",
              "          -63.3872,  104.4025,   20.5076,  -59.6585,   14.9146, -128.6387,\n",
              "          -67.1159,  -70.8445,  -83.8948,   39.1509,  -63.3872,   22.3720,\n",
              "          -55.9299, -128.6387,  -82.0305,   42.8796, -128.6387, -109.9954,\n",
              "           83.8948,   35.4223,  -68.9802, -128.6387,   55.9299,  -20.5076,\n",
              "           61.5229,  106.2668, -128.6387,  -83.8948,  -68.9802,  -50.3369,\n",
              "            7.4573,  -67.1159, -109.9954,  -55.9299,  102.5381, -128.6387,\n",
              "          -54.0656,   85.7592,  -70.8445,  100.6738,  -55.9299, -128.6387,\n",
              "          -72.7088,   50.3369,  113.7241,  109.9954,  -63.3872,  -95.0808,\n",
              "          -42.8796,  -44.7439,  -65.2515,  -96.9451,  -57.7942,  -44.7439,\n",
              "          -68.9802,  -55.9299,  -68.9802,  -57.7942,   82.0305,  -29.8293,\n",
              "           72.7088,   65.2515,  -13.0503,  -72.7088,  -85.7592,   29.8293,\n",
              "          -11.1860,   48.4726,  -39.1509,   61.5229,   26.1006,  111.8598,\n",
              "          -26.1006,  -14.9146,  -74.5732,  -70.8445,  -35.4223, -128.6387,\n",
              "           55.9299,   20.5076,   70.8445,   41.0152,   87.6235,  -41.0152,\n",
              "         -117.4528,   33.5579,  -46.6082,   63.3872,  -89.4878,  -68.9802,\n",
              "           54.0656,  -61.5229,   57.7942, -128.6387,   -5.5930,  -67.1159,\n",
              "           65.2515,  151.0107,  -67.1159,  -95.0808,    1.8643,   41.0152,\n",
              "         -128.6387,  -61.5229,   26.1006,   68.9802, -128.6387,  -44.7439]],\n",
              "       size=(1, 120), dtype=torch.quint8,\n",
              "       quantization_scheme=torch.per_tensor_affine, scale=1.86432945728302,\n",
              "       zero_point=69)"
            ]
          },
          "metadata": {
            "tags": []
          },
          "execution_count": 164
        }
      ]
    },
    {
      "cell_type": "markdown",
      "metadata": {
        "id": "bicQTMFmNGDn"
      },
      "source": [
        "# Weight Extraction"
      ]
    },
    {
      "cell_type": "code",
      "metadata": {
        "id": "oVWkGIhJnAPQ"
      },
      "source": [
        "# def extract_weights(model, layers):\n",
        "#   weights_dict = dict()\n",
        "#   for layer_name in layers:\n",
        "#     layer = getattr(model, layer_name)\n",
        "#     weights_dict[layer_name+'_weight'] = layer.weight().int_repr().numpy()\n",
        "#     weights_dict[layer_name+'_bias'] = layer.bias() #.int_repr().numpy()\n",
        "\n",
        "#   return weights_dict  "
      ],
      "execution_count": null,
      "outputs": []
    },
    {
      "cell_type": "code",
      "metadata": {
        "id": "kVvpr0NhFvDw"
      },
      "source": [
        "def get_layer_name(val):\n",
        "  layer_name = \"\"\n",
        "  \n",
        "  if val == \"conv1_weight\":\n",
        "    layer_name = \"conv/weights_0\"\n",
        "  elif val == \"conv1_bias\":\n",
        "    layer_name = \"conv/biases_0\"\n",
        "  elif val == \"conv2_weight\":\n",
        "    layer_name = \"conv/weights_1\"\n",
        "  elif val == \"conv2_bias\":\n",
        "    layer_name = \"conv/biases_1\"\n",
        "  elif val == \"conv3_weight\":\n",
        "    layer_name = \"conv/weights_2\"\n",
        "  elif val == \"conv3_bias\":\n",
        "    layer_name = \"conv/biases_2\"\n",
        "  elif val == \"fc1_weight\":\n",
        "    layer_name = \"fc/layer1/weights_layer1_n\" #\"fc_weights_0\"\n",
        "  elif val == \"fc1_bias\":\n",
        "    layer_name = \"fc/layer1/biases_layer1\" #\"fc_biases_0\"\n",
        "  elif val == \"fc2_weight\":\n",
        "    layer_name = \"fc/layer2/weights_layer2_n\" #\"fc_weights_1\"\n",
        "  elif val == \"fc2_bias\":\n",
        "    layer_name = \"fc/layer2/biases_layer2\" #\"fc_biases_1\"\n",
        "  elif val == \"fc3_weight\":\n",
        "    layer_name = \"fc/output_layer/weights_output_layer_n\" #\"fc_weights_2\"\n",
        "  elif val == \"fc3_bias\":\n",
        "    layer_name = \"fc/output_layer/biases_output_layer\" #\"fc_biases_2\"\n",
        "\n",
        "  return layer_name"
      ],
      "execution_count": null,
      "outputs": []
    },
    {
      "cell_type": "code",
      "metadata": {
        "id": "WQpfNCbM_jkd"
      },
      "source": [
        "def extract_weights_signed(model, layers):\n",
        "  weights_dict = dict()\n",
        "  for layer_name in layers:\n",
        "    layer = getattr(model, layer_name)\n",
        "    weight_layer_name = get_layer_name(layer_name+'_weight')\n",
        "    weights_dict[weight_layer_name] = layer.weight().int_repr().numpy()\n",
        "    print(weight_layer_name)\n",
        "\n",
        "    bias_layer_name = get_layer_name(layer_name+'_bias')\n",
        "    print(bias_layer_name)\n",
        "    zero_point = layer.state_dict()['zero_point']\n",
        "    scale = layer.state_dict()['scale']\n",
        "    weights_dict[bias_layer_name] = (layer.bias()/scale + zero_point).detach().numpy().astype(np.int8)\n",
        "\n",
        "  return weights_dict  "
      ],
      "execution_count": null,
      "outputs": []
    },
    {
      "cell_type": "code",
      "metadata": {
        "id": "Uw17aDQADIOr"
      },
      "source": [
        "# def extract_weights_unsigned(model, layers):\n",
        "#   weights_dict = dict()\n",
        "#   for layer_name in layers:\n",
        "#     layer = getattr(model, layer_name)\n",
        "#     weights_dict[layer_name+'_weight'] = layer.weight().int_repr().numpy().view(np.uint8) + 128\n",
        "#     zero_point = layer.state_dict()['zero_point']\n",
        "#     scale = layer.state_dict()['scale']\n",
        "#     weights_dict[layer_name+'_bias'] = (layer.bias()/scale + zero_point).detach().numpy().astype(np.uint8)\n",
        "\n",
        "#   return weights_dict  "
      ],
      "execution_count": null,
      "outputs": []
    },
    {
      "cell_type": "code",
      "metadata": {
        "colab": {
          "base_uri": "https://localhost:8080/"
        },
        "id": "qPeXZZljqgjC",
        "outputId": "aef504a8-1b2b-45b9-ac10-420918c80db8"
      },
      "source": [
        "layers = ['conv1', 'conv2', 'conv3', 'fc1', 'fc2', 'fc3']\n",
        "weights = extract_weights_signed(model_int8, layers)\n",
        "weights.keys()"
      ],
      "execution_count": null,
      "outputs": [
        {
          "output_type": "stream",
          "text": [
            "conv/weights_0\n",
            "conv/biases_0\n",
            "conv/weights_1\n",
            "conv/biases_1\n",
            "conv/weights_2\n",
            "conv/biases_2\n",
            "fc/layer1/weights_layer1_n\n",
            "fc/layer1/biases_layer1\n",
            "fc/layer2/weights_layer2_n\n",
            "fc/layer2/biases_layer2\n",
            "fc/output_layer/weights_output_layer_n\n",
            "fc/output_layer/biases_output_layer\n"
          ],
          "name": "stdout"
        },
        {
          "output_type": "execute_result",
          "data": {
            "text/plain": [
              "dict_keys(['conv/weights_0', 'conv/biases_0', 'conv/weights_1', 'conv/biases_1', 'conv/weights_2', 'conv/biases_2', 'fc/layer1/weights_layer1_n', 'fc/layer1/biases_layer1', 'fc/layer2/weights_layer2_n', 'fc/layer2/biases_layer2', 'fc/output_layer/weights_output_layer_n', 'fc/output_layer/biases_output_layer'])"
            ]
          },
          "metadata": {
            "tags": []
          },
          "execution_count": 202
        }
      ]
    },
    {
      "cell_type": "code",
      "metadata": {
        "colab": {
          "base_uri": "https://localhost:8080/"
        },
        "id": "XLnxHudaHFMY",
        "outputId": "b1a9c484-d963-4b9c-a26c-b7ace6de3a57"
      },
      "source": [
        "print(weights['conv1_weight'].shape)\n",
        "print(weights['fc1_weight'].shape)"
      ],
      "execution_count": null,
      "outputs": [
        {
          "output_type": "stream",
          "text": [
            "(32, 1, 3, 3)\n",
            "(120, 512)\n"
          ],
          "name": "stdout"
        }
      ]
    },
    {
      "cell_type": "code",
      "metadata": {
        "id": "8BO1OJofH6Nc"
      },
      "source": [
        "# !mkdir /content/gdrive/MyDrive/University/Fourth\\ Year\\ \\(2020-2021\\)/ECE532/Mem\\ Files/New"
      ],
      "execution_count": null,
      "outputs": []
    },
    {
      "cell_type": "code",
      "metadata": {
        "id": "chm948yykHhA"
      },
      "source": [
        "import binascii\n",
        "import numpy as np\n",
        "\n",
        "mem_file_base = '/content/gdrive/MyDrive/University/Fourth Year (2020-2021)/ECE532/Mem Files/New/'\n",
        "\n",
        "for name, layer in weights.items():\n",
        "  write_to_file = True\n",
        "\n",
        "  if layer.ndim == 4: # Conv weights\n",
        "    if write_to_file:\n",
        "      f = open(mem_file_base + name + '.mem', 'w')\n",
        "      f_txt = open(mem_file_base + 'txt/' + name + '.txt', 'w')\n",
        "      for kernel in layer:\n",
        "        # print(kernel.shape)\n",
        "        for weight in np.flip(kernel.flatten()):\n",
        "          f.write(binascii.hexlify((int(weight)).to_bytes(2, byteorder=\"big\", signed=True)).decode('utf-8'))\n",
        "          f_txt.write(str(weight) + \" \")\n",
        "        f.write(\"\\n\")\n",
        "        f_txt.write(\"\\n\")\n",
        "      f.close()\n",
        "      f_txt.close()\n",
        "  elif layer.ndim == 2: # Fully Connected weights\n",
        "    if write_to_file:\n",
        "      for i, neuron in enumerate(layer):\n",
        "        f = open(mem_file_base + name + str(i) + '.mem', 'w')\n",
        "        f_txt = open(mem_file_base + 'txt/' + name + str(i) + '.txt', 'w')\n",
        "        for val in neuron:\n",
        "          f.write(binascii.hexlify((int(val)).to_bytes(2, byteorder=\"big\", signed=True)).decode('utf-8') + \"\\n\")\n",
        "          f_txt.write(str(val) + \"\\n\")\n",
        "        f.close()\n",
        "        f_txt.close()\n",
        "  else: # Biases\n",
        "    if write_to_file:\n",
        "      f = open(mem_file_base + name + '.mem', 'w')\n",
        "      f_txt = open(mem_file_base + 'txt/' + name + '.txt', 'w')\n",
        "      for val in layer:\n",
        "        f.write(binascii.hexlify((int(val)).to_bytes(2, byteorder=\"big\", signed=True)).decode('utf-8') + \"\\n\")\n",
        "        f_txt.write(str(val) + \"\\n\")\n",
        "      f.close()\n",
        "      f_txt.close()"
      ],
      "execution_count": null,
      "outputs": []
    },
    {
      "cell_type": "code",
      "metadata": {
        "id": "nLCBCM7Okq59",
        "colab": {
          "base_uri": "https://localhost:8080/",
          "height": 36
        },
        "outputId": "55ada51e-89eb-46bb-b118-923df5e6c6a3"
      },
      "source": [
        "binascii.hexlify((-9).to_bytes(2, byteorder=\"big\", signed=True)).decode('utf-8')"
      ],
      "execution_count": null,
      "outputs": [
        {
          "output_type": "execute_result",
          "data": {
            "application/vnd.google.colaboratory.intrinsic+json": {
              "type": "string"
            },
            "text/plain": [
              "'fff7'"
            ]
          },
          "metadata": {
            "tags": []
          },
          "execution_count": 188
        }
      ]
    },
    {
      "cell_type": "code",
      "metadata": {
        "id": "GKuligeACpFE"
      },
      "source": [
        "f_txt.close()"
      ],
      "execution_count": null,
      "outputs": []
    }
  ]
}